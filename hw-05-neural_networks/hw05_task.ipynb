{
  "nbformat": 4,
  "nbformat_minor": 0,
  "metadata": {
    "colab": {
      "name": "Diatlova_hw05_task.ipynb",
      "provenance": [],
      "collapsed_sections": []
    },
    "kernelspec": {
      "display_name": "Python 3",
      "language": "python",
      "name": "python3"
    },
    "language_info": {
      "codemirror_mode": {
        "name": "ipython",
        "version": 3
      },
      "file_extension": ".py",
      "mimetype": "text/x-python",
      "name": "python",
      "nbconvert_exporter": "python",
      "pygments_lexer": "ipython3",
      "version": "3.7.3"
    },
    "accelerator": "GPU"
  },
  "cells": [
    {
      "cell_type": "markdown",
      "metadata": {
        "id": "9Qp0H_zUQuu_"
      },
      "source": [
        "# Нейронные сети\n",
        "__Суммарное количество баллов: 10__\n",
        "\n",
        "__Решение отправлять на `ml.course.practice@gmail.com`__\n",
        "\n",
        "__Тема письма: `[ML][HW05] <ФИ>`, где вместо `<ФИ>` указаны фамилия и имя__\n",
        "\n",
        "Для начала вам предстоит реализовать свой собственный backpropagation и протестировать его на реальных данных, а затем научиться обучать нейронные сети при помощи библиотеки `PyTorch` и использовать это умение для классификации классического набора данных CIFAR10."
      ]
    },
    {
      "cell_type": "code",
      "metadata": {
        "id": "22ezVRf3QuvA"
      },
      "source": [
        "import numpy as np\n",
        "import copy\n",
        "from sklearn.datasets import make_blobs, make_moons\n",
        "from typing import List, NoReturn"
      ],
      "execution_count": 1,
      "outputs": []
    },
    {
      "cell_type": "markdown",
      "metadata": {
        "id": "4qfDPH_LQuvF"
      },
      "source": [
        "### Задание 1 (3 балла)\n",
        "Нейронные сети состоят из слоев, поэтому для начала понадобится реализовать их. Пока нам понадобятся только три:\n",
        "\n",
        "`Linear` - полносвязный слой, в котором `y = Wx + b`, где `y` - выход, `x` - вход, `W` - матрица весов, а `b` - смещение. \n",
        "\n",
        "`ReLU` - слой, соответствующий функции активации `y = max(0, x)`.\n",
        "\n",
        "`Softmax` - слой, соответствующий функции активации [softmax](https://ru.wikipedia.org/wiki/Softmax)\n",
        "\n",
        "\n",
        "#### Методы\n",
        "`forward(X)` - возвращает предсказанные для `X`. `X` может быть как вектором, так и батчем\n",
        "\n",
        "`backward(d)` - считает градиент при помощи обратного распространения ошибки. Возвращает новое значение `d`\n",
        "\n",
        "`update(alpha)` - обновляет веса (если необходимо) с заданой скоростью обучения"
      ]
    },
    {
      "cell_type": "code",
      "metadata": {
        "id": "RWFLlHqaYbgC"
      },
      "source": [
        "class Module:\n",
        "    \"\"\"\n",
        "    Абстрактный класс. Его менять не нужно.\n",
        "    \"\"\"\n",
        "    def forward(self, x):\n",
        "        raise NotImplementedError()\n",
        "    \n",
        "    def backward(self, d):\n",
        "        raise NotImplementedError()\n",
        "        \n",
        "    def update(self, alpha):\n",
        "        pass"
      ],
      "execution_count": 2,
      "outputs": []
    },
    {
      "cell_type": "code",
      "metadata": {
        "id": "aYS2gE4PYepZ"
      },
      "source": [
        "class Linear(Module):\n",
        "    \"\"\"\n",
        "    Линейный полносвязный слой.\n",
        "    \"\"\"\n",
        "    def __init__(self, in_features: int, out_features: int):\n",
        "        \"\"\"\n",
        "        Parameters\n",
        "        ----------\n",
        "        in_features : int\n",
        "            Размер входа.\n",
        "        out_features : int \n",
        "            Размер выхода.\n",
        "    \n",
        "        Notes\n",
        "        -----\n",
        "        W и b инициализируются случайно.\n",
        "        \"\"\"\n",
        "\n",
        "\n",
        "        self.in_features = in_features\n",
        "        self.out_features = out_features\n",
        "в\n",
        "    \n",
        "    def forward(self, x: np.ndarray) -> np.ndarray:\n",
        "        \"\"\"\n",
        "        Возвращает y = Wx + b.\n",
        "\n",
        "        Parameters\n",
        "        ----------\n",
        "        x : np.ndarray\n",
        "            Входной вектор или батч.\n",
        "            То есть, либо x вектор с in_features элементов,\n",
        "            либо матрица размерности (batch_size, in_features).\n",
        "    \n",
        "        Return\n",
        "        ------\n",
        "        y : np.ndarray\n",
        "            Выход после слоя.\n",
        "            Либо вектор с out_features элементами,\n",
        "            либо матрица размерности (batch_size, out_features)\n",
        "\n",
        "        \"\"\"\n",
        "\n",
        "        self.x = x.copy()\n",
        "        y = self.x @ self.w + self.b\n",
        "        return y \n",
        "\n",
        "    \n",
        "    def backward(self, d: np.ndarray) -> np.ndarray:\n",
        "        \"\"\"\n",
        "        Cчитает градиент при помощи обратного распространения ошибки.\n",
        "\n",
        "        Parameters\n",
        "        ----------\n",
        "        d : np.ndarray\n",
        "            Градиент.\n",
        "        Return\n",
        "        ------\n",
        "        np.ndarray\n",
        "            Новое значение градиента.\n",
        "        \"\"\"\n",
        "        #dl / dx - return; dl / db - save; dl / dw - save; dl / dy - have\n",
        "        db_sum = self.x.shape[0]\n",
        "        self.db = np.sum(d, axis=0)  / db_sum\n",
        "\n",
        "        dx = d @ self.w.T \n",
        "        self.dw = self.x.T @ d / db_sum\n",
        "\n",
        "        return dx\n",
        "\n",
        "\n",
        "    def update(self, alpha: float) -> NoReturn:\n",
        "        \"\"\"\n",
        "        Обновляет W и b с заданной скоростью обучения.\n",
        "\n",
        "        Parameters\n",
        "        ----------\n",
        "        alpha : float\n",
        "            Скорость обучения.\n",
        "        \"\"\"\n",
        "\n",
        "        self.w = self.w - (alpha * self.dw)\n",
        "        self.b = self.b - (alpha * self.db)"
      ],
      "execution_count": 3,
      "outputs": []
    },
    {
      "cell_type": "code",
      "metadata": {
        "id": "94hkbnD1QuvG"
      },
      "source": [
        "class ReLU(Module):\n",
        "    \"\"\"\n",
        "    Слой, соответствующий функции активации ReLU.\n",
        "    \"\"\"\n",
        "    def __init__(self):\n",
        "        self.x = None\n",
        "    \n",
        "    def forward(self, x: np.ndarray) -> np.ndarray:\n",
        "\n",
        "        \"\"\"\n",
        "        Возвращает y = max(0, x).\n",
        "\n",
        "        Parameters\n",
        "        ----------\n",
        "        x : np.ndarray\n",
        "            Входной вектор или батч.\n",
        "    \n",
        "        Return\n",
        "        ------\n",
        "        y : np.ndarray\n",
        "            Выход после слоя (той же размерности, что и вход).\n",
        "\n",
        "        \"\"\"\n",
        "        self.x = x.copy()\n",
        "        y = np.maximum(x, np.zeros_like(x))\n",
        "        return y\n",
        "        \n",
        "    def backward(self, d) -> np.ndarray:\n",
        "        \"\"\"\n",
        "        Cчитает градиент при помощи обратного распространения ошибки.\n",
        "\n",
        "        Parameters\n",
        "        ----------\n",
        "        d : np.ndarray\n",
        "            Градиент.\n",
        "        Return\n",
        "        ------\n",
        "        np.ndarray\n",
        "            Новое значение градиента.\n",
        "        \"\"\"\n",
        "        # dl / dy - have; dl / dx - return\n",
        "        dy_x = np.where(self.x <= 0, 0, 1)\n",
        "        dx = d * dy_x\n",
        "        return dx\n",
        "        \n",
        "class Softmax(Module):\n",
        "    \"\"\"\n",
        "    Слой, соответствующий функции активации Softmax.\n",
        "    \"\"\"\n",
        "    def __init__(self):\n",
        "        self.x = None\n",
        "        self.y = None\n",
        "        \n",
        "    def forward(self, x: np.ndarray) -> np.ndarray:\n",
        "        \"\"\"\n",
        "        Возвращает y = Softmax(x).\n",
        "\n",
        "        Parameters\n",
        "        ----------\n",
        "        x : np.ndarray\n",
        "            Входной вектор или батч.\n",
        "    \n",
        "        Return\n",
        "        ------\n",
        "        y : np.ndarray\n",
        "            Выход после слоя (той же размерности, что и вход).\n",
        "\n",
        "        \"\"\"\n",
        "        \n",
        "        self.x = x.copy()\n",
        "\n",
        "        def func(x):\n",
        "          max_element = np.amax(x)\n",
        "          return np.exp(x - max_element) / np.sum(np.exp(x - max_element))         \n",
        "\n",
        "        if len(x.shape) == 1:\n",
        "          self.y = func(x)\n",
        "          return self.y\n",
        "\n",
        "        else:\n",
        "          self.y = np.apply_along_axis(func, 1, self.x)\n",
        "          return self.y    \n",
        "        \n",
        "    def backward(self, d) -> np.ndarray:\n",
        "        \"\"\"\n",
        "        Cчитает градиент при помощи обратного распространения ошибки.\n",
        "\n",
        "        Parameters\n",
        "        ----------\n",
        "        d : np.ndarray\n",
        "            Градиент.\n",
        "        Return\n",
        "        ------\n",
        "        np.ndarray\n",
        "            Новое значение градиента.\n",
        "        \"\"\"\n",
        "\n",
        "        dx = self.y - d\n",
        "        return dx"
      ],
      "execution_count": 4,
      "outputs": []
    },
    {
      "cell_type": "markdown",
      "metadata": {
        "id": "Rb_ip_h8QuvJ"
      },
      "source": [
        "### Задание 2 (2 балла)\n",
        "Теперь сделаем саму нейронную сеть.\n",
        "\n",
        "#### Методы\n",
        "`fit(X, y)` - обучает нейронную сеть заданное число эпох. В каждой эпохе необходимо использовать [cross-entropy loss](https://ml-cheatsheet.readthedocs.io/en/latest/loss_functions.html#cross-entropy) для обучения, а так же производить обновления не по одному элементу, а используя батчи.\n",
        "\n",
        "`predict_proba(X)` - предсказывает вероятности классов для элементов `X`\n",
        "\n",
        "#### Параметры конструктора\n",
        "`modules` - список, состоящий из ранее реализованных модулей и описывающий слои нейронной сети. В конец необходимо добавить `Softmax`\n",
        "\n",
        "`epochs` - количество эпох обучения\n",
        "\n",
        "`alpha` - скорость обучения"
      ]
    },
    {
      "cell_type": "code",
      "metadata": {
        "id": "Q_JFCizKQuvK"
      },
      "source": [
        "class MLPClassifier:\n",
        "    def __init__(self, modules: List[Module], epochs: int = 40, alpha: float = 0.01):\n",
        "        \"\"\"\n",
        "        Parameters\n",
        "        ----------\n",
        "        modules : List[Module]\n",
        "            Cписок, состоящий из ранее реализованных модулей и \n",
        "            описывающий слои нейронной сети. \n",
        "            В конец необходимо добавить Softmax.\n",
        "        epochs : int\n",
        "            Количество эпох обученияю\n",
        "        alpha : float\n",
        "            Cкорость обучения.\n",
        "        \"\"\"\n",
        "\n",
        "        self.modules = modules\n",
        "        self.modules.append(Softmax())\n",
        "        self.epochs = epochs\n",
        "        self.alpha = alpha\n",
        "            \n",
        "    def fit(self, X: np.ndarray, y: np.ndarray, batch_size=32) -> NoReturn:\n",
        "        \"\"\"\n",
        "        Обучает нейронную сеть заданное число эпох. \n",
        "        В каждой эпохе необходимо использовать cross-entropy loss для обучения, \n",
        "        а так же производить обновления не по одному элементу, а используя батчи.\n",
        "\n",
        "        Parameters\n",
        "        ----------\n",
        "        X : np.ndarray\n",
        "            Данные для обучения.\n",
        "        y : np.ndarray\n",
        "            Вектор меток классов для данных.\n",
        "        batch_size : int\n",
        "            Размер батча.\n",
        "        \"\"\"\n",
        "\n",
        "        classes = np.unique(y)\n",
        "        classes = len(classes)\n",
        "        y_ = np.zeros((len(y), classes))\n",
        "        for i in range(len(y)):\n",
        "          pos = y[i]\n",
        "          y_[i][pos] = 1    \n",
        "        for epoch in range(self.epochs):       \n",
        "          stop = X.shape[0]\n",
        "          for i in range(0, stop, batch_size):\n",
        "            if i + batch_size <= stop:\n",
        "              borders = y_[i:i+batch_size]\n",
        "              param = X[i:i+batch_size]  \n",
        "            else:  \n",
        "              param = X[i:stop]\n",
        "              borders = y_[i:stop]\n",
        "            for module in self.modules: \n",
        "              param = module.forward(param)                \n",
        "            for module in reversed(self.modules):\n",
        "              borders = module.backward(borders)\n",
        "              module.update(self.alpha)\n",
        "            \n",
        "        \n",
        "    def predict_proba(self, X: np.ndarray) -> np.ndarray:\n",
        "        \"\"\"\n",
        "        Предсказывает вероятности классов для элементов X.\n",
        "\n",
        "        Parameters\n",
        "        ----------\n",
        "        X : np.ndarray\n",
        "            Данные для предсказания.\n",
        "        \n",
        "        Return\n",
        "        ------\n",
        "        np.ndarray\n",
        "            Предсказанные вероятности классов для всех элементов X.\n",
        "            Размерность (X.shape[0], n_classes)\n",
        "        \n",
        "        \"\"\"\n",
        "        p = X.copy()\n",
        "        for module in self.modules:         \n",
        "          p = module.forward(p)             \n",
        "        return p\n",
        "        \n",
        "    def predict(self, X) -> np.ndarray:\n",
        "        \"\"\"\n",
        "        Предсказывает метки классов для элементов X.\n",
        "\n",
        "        Parameters\n",
        "        ----------\n",
        "        X : np.ndarray\n",
        "            Данные для предсказания.\n",
        "        \n",
        "        Return\n",
        "        ------\n",
        "        np.ndarray\n",
        "            Вектор предсказанных классов\n",
        "        \n",
        "        \"\"\"\n",
        "        p = self.predict_proba(X)\n",
        "        return np.argmax(p, axis=1)"
      ],
      "execution_count": 5,
      "outputs": []
    },
    {
      "cell_type": "code",
      "metadata": {
        "colab": {
          "base_uri": "https://localhost:8080/"
        },
        "id": "hZhRZBccSqKB",
        "outputId": "91ecdcef-f2ad-4bdc-84d4-b3986f19bdc6"
      },
      "source": [
        "np.seterr(over=\"raise\")"
      ],
      "execution_count": 6,
      "outputs": [
        {
          "output_type": "execute_result",
          "data": {
            "text/plain": [
              "{'divide': 'warn', 'invalid': 'warn', 'over': 'warn', 'under': 'ignore'}"
            ]
          },
          "metadata": {
            "tags": []
          },
          "execution_count": 6
        }
      ]
    },
    {
      "cell_type": "code",
      "metadata": {
        "id": "onDymYQXQuvN",
        "colab": {
          "base_uri": "https://localhost:8080/"
        },
        "outputId": "3bd82e5e-aee2-4f7e-e31e-85af8616f795"
      },
      "source": [
        "p = MLPClassifier([\n",
        "    Linear(4, 64),\n",
        "    ReLU(),\n",
        "    Linear(64, 64),\n",
        "    ReLU(),\n",
        "    Linear(64, 2)\n",
        "])\n",
        "\n",
        "X = np.random.randn(50, 4)\n",
        "\n",
        "y = [(0 if x[0] > x[2]**2 or x[3]**3 > 0.5 else 1) for x in X]\n",
        "\n",
        "p.fit(X, y)\n",
        "p.predict(X)"
      ],
      "execution_count": 7,
      "outputs": [
        {
          "output_type": "execute_result",
          "data": {
            "text/plain": [
              "array([1, 1, 1, 1, 1, 1, 1, 1, 1, 1, 1, 1, 1, 1, 1, 1, 1, 0, 1, 1, 1, 1,\n",
              "       1, 1, 1, 1, 1, 1, 1, 1, 1, 1, 1, 0, 1, 1, 1, 1, 1, 1, 1, 1, 1, 1,\n",
              "       1, 1, 1, 0, 1, 1])"
            ]
          },
          "metadata": {
            "tags": []
          },
          "execution_count": 7
        }
      ]
    },
    {
      "cell_type": "code",
      "metadata": {
        "colab": {
          "base_uri": "https://localhost:8080/"
        },
        "id": "SJxVHO8vUFk2",
        "outputId": "dd589374-cdff-4494-cfca-d2c1ad479f28"
      },
      "source": [
        "np.count_nonzero(y == p.predict(X)) / len(y)"
      ],
      "execution_count": 8,
      "outputs": [
        {
          "output_type": "execute_result",
          "data": {
            "text/plain": [
              "0.36"
            ]
          },
          "metadata": {
            "tags": []
          },
          "execution_count": 8
        }
      ]
    },
    {
      "cell_type": "markdown",
      "metadata": {
        "id": "3C1EIsDqQuvQ"
      },
      "source": [
        "### Задание 3 (2 балла)\n",
        "Протестируем наше решение на синтетических данных. Необходимо подобрать гиперпараметры, при которых качество полученных классификаторов будет достаточным.\n",
        "\n",
        "#### Оценка\n",
        "Accuracy на первом датасете больше 0.85 - +1 балл\n",
        "\n",
        "Accuracy на втором датасете больше 0.85 - +1 балл"
      ]
    },
    {
      "cell_type": "code",
      "metadata": {
        "id": "d5UAgXTcQuvQ",
        "colab": {
          "base_uri": "https://localhost:8080/"
        },
        "outputId": "9fcded60-6675-488d-d203-3c43ed8fd98d"
      },
      "source": [
        "X, y = make_moons(400, noise=0.075)\n",
        "X_test, y_test = make_moons(400, noise=0.075)\n",
        "best_acc = 0\n",
        "for _ in range(25):\n",
        "    p = MLPClassifier([\n",
        "      Linear(2, 64),\n",
        "      ReLU(),\n",
        "      Linear(64, 64),\n",
        "      ReLU(),\n",
        "      Linear(64, 2)\n",
        "    ])\n",
        "    p.fit(X, y)\n",
        "    best_acc = max(np.mean(p.predict(X_test) == y_test), best_acc)\n",
        "print(\"Accuracy\", best_acc)"
      ],
      "execution_count": 9,
      "outputs": [
        {
          "output_type": "stream",
          "text": [
            "Accuracy 0.9225\n"
          ],
          "name": "stdout"
        }
      ]
    },
    {
      "cell_type": "code",
      "metadata": {
        "id": "MMDJM4qFQuvT",
        "colab": {
          "base_uri": "https://localhost:8080/"
        },
        "outputId": "07fcc9d4-626e-480b-d309-0eafe172025d"
      },
      "source": [
        "X, y = make_blobs(400, 2, centers=[[0, 0], [2.5, 2.5], [-2.5, 3]])\n",
        "X_test, y_test = make_blobs(400, 2, centers=[[0, 0], [2.5, 2.5], [-2.5, 3]])\n",
        "best_acc = 0\n",
        "for _ in range(25):\n",
        "    p = MLPClassifier([\n",
        "      Linear(2, 64),\n",
        "      ReLU(),\n",
        "      Linear(64, 64),\n",
        "      ReLU(),\n",
        "      Linear(64, 3)\n",
        "    ])\n",
        "    p.fit(X, y)\n",
        "    best_acc = max(np.mean(p.predict(X_test) == y_test), best_acc)\n",
        "print(\"Accuracy\", best_acc)"
      ],
      "execution_count": 10,
      "outputs": [
        {
          "output_type": "stream",
          "text": [
            "Accuracy 0.9425\n"
          ],
          "name": "stdout"
        }
      ]
    },
    {
      "cell_type": "markdown",
      "metadata": {
        "id": "nPbVTFnMQuvW"
      },
      "source": [
        "## PyTorch\n",
        "\n",
        "Для выполнения следующего задания понадобится PyTorch. [Инструкция по установке](https://pytorch.org/get-started/locally/)\n",
        "\n",
        "Если у вас нет GPU, то можно использовать [Google Colab](https://colab.research.google.com/)"
      ]
    },
    {
      "cell_type": "code",
      "metadata": {
        "id": "tV0mJLu-QuvX"
      },
      "source": [
        "from torchvision import datasets, transforms\n",
        "from torch.utils.data import DataLoader\n",
        "import torch\n",
        "from tqdm import tqdm\n",
        "from torch import nn\n",
        "import torch.nn.functional as F\n",
        "import matplotlib.pyplot as plt"
      ],
      "execution_count": 2,
      "outputs": []
    },
    {
      "cell_type": "code",
      "metadata": {
        "id": "VUC_QqpAQuva",
        "colab": {
          "base_uri": "https://localhost:8080/"
        },
        "outputId": "c4fb81ba-f2fc-45dd-fdfc-29fa589a6929"
      },
      "source": [
        "device = torch.device(\"cuda\" if torch.cuda.is_available() else \"cpu\")\n",
        "\n",
        "t = transforms.ToTensor()\n",
        "\n",
        "cifar_train = datasets.CIFAR10(\"datasets/cifar10\", download=True, train=True, transform=t)\n",
        "train_loader = DataLoader(cifar_train, batch_size=1024, shuffle=True, pin_memory=torch.cuda.is_available())\n",
        "cifar_test = datasets.CIFAR10(\"datasets/cifar10\", download=True, train=False, transform=t)\n",
        "test_loader = DataLoader(cifar_test, batch_size=1024, shuffle=False, pin_memory=torch.cuda.is_available())"
      ],
      "execution_count": 8,
      "outputs": [
        {
          "output_type": "stream",
          "text": [
            "Files already downloaded and verified\n",
            "Files already downloaded and verified\n"
          ],
          "name": "stdout"
        }
      ]
    },
    {
      "cell_type": "markdown",
      "metadata": {
        "id": "rGmpjcFfQuvd"
      },
      "source": [
        "### Задание 4 (3 балла)\n",
        "А теперь поработам с настоящими нейронными сетями и настоящими данными. Необходимо реализовать сверточную нейронную сеть, которая будет классифицировать изображения из датасета CIFAR10. Имплементируйте класс `Model` и функцию `calculate_loss`. \n",
        "\n",
        "Обратите внимание, что `Model` должна считать в конце `softmax`, т.к. мы решаем задачу классификации. Соответствеено, функция `calculate_loss` считает cross-entropy.\n",
        "\n",
        "Для успешного выполнения задания необходимо, чтобы `accuracy`, `mean precision` и `mean recall` были больше 0.5\n",
        "\n",
        "__Можно пользоваться всем содержимым библиотеки PyTorch.__"
      ]
    },
    {
      "cell_type": "code",
      "metadata": {
        "id": "5sRmTKwKQuve"
      },
      "source": [
        "class Model(nn.Module):\n",
        "    def __init__(self):\n",
        "        super().__init__()\n",
        "        self.conv1 = nn.Conv2d(3, 6, 5)\n",
        "        self.conv2 = nn.Conv2d(6, 10, 5)\n",
        "        self.mp = nn.MaxPool2d(2, 2)\n",
        "        self.fc = nn.Linear(10 * 5 * 5, 10)\n",
        "\n",
        "    def forward(self, x: torch.Tensor) -> torch.Tensor:\n",
        "        in_size = x.size(0)\n",
        "        x = F.relu(self.mp(self.conv1(x)))\n",
        "        x = F.relu(self.mp(self.conv2(x)))\n",
        "        x = x.view(in_size, -1)\n",
        "        x = self.fc(x)\n",
        "        return F.log_softmax(x)\n",
        "\n",
        "def calculate_loss(X: torch.Tensor, y: torch.Tensor, model: Model):\n",
        "  \n",
        "    predictions = model.forward(X)\n",
        "    loss = nn.CrossEntropyLoss()\n",
        "    return loss(predictions, y)\n",
        "\n",
        "    \"\"\"\n",
        "    Cчитает cross-entropy.\n",
        "\n",
        "    Parameters\n",
        "    ----------\n",
        "    X : torch.Tensor\n",
        "        Данные для обучения.\n",
        "    y : torch.Tensor\n",
        "        Метки классов.\n",
        "    model : Model\n",
        "        Модель, которую будем обучать.\n",
        "\n",
        "    \"\"\""
      ],
      "execution_count": 58,
      "outputs": []
    },
    {
      "cell_type": "markdown",
      "metadata": {
        "id": "JAsLmkUqQuvh"
      },
      "source": [
        "Теперь обучим нашу модель. Для этого используем ранее созданные batch loader'ы."
      ]
    },
    {
      "cell_type": "code",
      "metadata": {
        "id": "k5G8iMCeQuvh"
      },
      "source": [
        "def train(model, epochs=100):\n",
        "    optimizer = torch.optim.Adam(model.parameters())\n",
        "    train_losses = []\n",
        "    test_losses = []\n",
        "    for i in range(epochs):\n",
        "        #Train\n",
        "        loss_mean = 0\n",
        "        elements = 0\n",
        "        for X, y in iter(train_loader):\n",
        "            X = X.to(device)\n",
        "            y = y.to(device)\n",
        "            loss = calculate_loss(X, y, model)\n",
        "            optimizer.zero_grad()\n",
        "            loss.backward()\n",
        "            optimizer.step()\n",
        "            loss_mean += loss.item() * len(X)\n",
        "            elements += len(X)\n",
        "        train_losses.append(loss_mean / elements)\n",
        "        #Test\n",
        "        loss_mean = 0 \n",
        "        elements = 0\n",
        "        for X, y in iter(test_loader):\n",
        "            X = X.to(device)\n",
        "            y = y.to(device)\n",
        "            loss = calculate_loss(X, y, model)\n",
        "            loss_mean += loss.item() * len(X)\n",
        "            elements += len(X)\n",
        "        test_losses.append(loss_mean / elements)\n",
        "        print(\"Epoch\", i, \"| Train loss\", train_losses[-1], \"| Test loss\", test_losses[-1])\n",
        "    return train_losses, test_losses"
      ],
      "execution_count": 59,
      "outputs": []
    },
    {
      "cell_type": "code",
      "metadata": {
        "id": "vmD9eWJOQuvl",
        "scrolled": true,
        "colab": {
          "base_uri": "https://localhost:8080/"
        },
        "outputId": "c63cd3cf-e987-45d8-85dc-01e83f4f4ad1"
      },
      "source": [
        "model = Model().to(device)\n",
        "train_l, test_l = train(model)"
      ],
      "execution_count": 60,
      "outputs": [
        {
          "output_type": "stream",
          "text": [
            "/usr/local/lib/python3.6/dist-packages/ipykernel_launcher.py:18: UserWarning: Implicit dimension choice for log_softmax has been deprecated. Change the call to include dim=X as an argument.\n"
          ],
          "name": "stderr"
        },
        {
          "output_type": "stream",
          "text": [
            "Epoch 0 | Train loss 2.135299001045227 | Test loss 1.9589323875427247\n",
            "Epoch 1 | Train loss 1.9040174471282958 | Test loss 1.852429295349121\n",
            "Epoch 2 | Train loss 1.812948392829895 | Test loss 1.76559604473114\n",
            "Epoch 3 | Train loss 1.7284419163131715 | Test loss 1.682737523651123\n",
            "Epoch 4 | Train loss 1.6521992755889892 | Test loss 1.615864907836914\n",
            "Epoch 5 | Train loss 1.599570605506897 | Test loss 1.5709214593887328\n",
            "Epoch 6 | Train loss 1.5563262784194947 | Test loss 1.5479534526824952\n",
            "Epoch 7 | Train loss 1.5303230350112915 | Test loss 1.5164154293060303\n",
            "Epoch 8 | Train loss 1.508492887763977 | Test loss 1.4986480430603026\n",
            "Epoch 9 | Train loss 1.489133256263733 | Test loss 1.484222819519043\n",
            "Epoch 10 | Train loss 1.4793716778945922 | Test loss 1.4800969116210938\n",
            "Epoch 11 | Train loss 1.4658430583572388 | Test loss 1.460766978263855\n",
            "Epoch 12 | Train loss 1.4561043569946288 | Test loss 1.45675638256073\n",
            "Epoch 13 | Train loss 1.4434335451889038 | Test loss 1.4488028926849366\n",
            "Epoch 14 | Train loss 1.439066555557251 | Test loss 1.4554563957214355\n",
            "Epoch 15 | Train loss 1.4310294607925416 | Test loss 1.4519949010848998\n",
            "Epoch 16 | Train loss 1.4295784285354614 | Test loss 1.446808420562744\n",
            "Epoch 17 | Train loss 1.4135644272232055 | Test loss 1.4180302936553955\n",
            "Epoch 18 | Train loss 1.4069494511413574 | Test loss 1.4084702392578126\n",
            "Epoch 19 | Train loss 1.3999813354873658 | Test loss 1.4140458124160766\n",
            "Epoch 20 | Train loss 1.3973883794784545 | Test loss 1.3995764764785767\n",
            "Epoch 21 | Train loss 1.3915887566757201 | Test loss 1.3941077527999879\n",
            "Epoch 22 | Train loss 1.3836671586227416 | Test loss 1.389288705444336\n",
            "Epoch 23 | Train loss 1.3760794189453125 | Test loss 1.383452589416504\n",
            "Epoch 24 | Train loss 1.3735313475418092 | Test loss 1.3771089849472047\n",
            "Epoch 25 | Train loss 1.3752232746887207 | Test loss 1.3816579223632812\n",
            "Epoch 26 | Train loss 1.3637248975753784 | Test loss 1.377892674255371\n",
            "Epoch 27 | Train loss 1.3572180837249757 | Test loss 1.3711824991226196\n",
            "Epoch 28 | Train loss 1.355002512550354 | Test loss 1.3704542720794677\n",
            "Epoch 29 | Train loss 1.3526466972732545 | Test loss 1.359055260848999\n",
            "Epoch 30 | Train loss 1.3481063868713379 | Test loss 1.3509447959899903\n",
            "Epoch 31 | Train loss 1.3391646603775025 | Test loss 1.3447541025161742\n",
            "Epoch 32 | Train loss 1.3380390444946288 | Test loss 1.3416911853790283\n",
            "Epoch 33 | Train loss 1.3306273544692993 | Test loss 1.3455101118087769\n",
            "Epoch 34 | Train loss 1.3276063515853882 | Test loss 1.3414785276412964\n",
            "Epoch 35 | Train loss 1.3252599530029296 | Test loss 1.348616456413269\n",
            "Epoch 36 | Train loss 1.321450214881897 | Test loss 1.3409349241256714\n",
            "Epoch 37 | Train loss 1.31566146900177 | Test loss 1.3488590684890747\n",
            "Epoch 38 | Train loss 1.3187113300704956 | Test loss 1.3310504013061524\n",
            "Epoch 39 | Train loss 1.3122184293746948 | Test loss 1.3264424394607544\n",
            "Epoch 40 | Train loss 1.3080477238845825 | Test loss 1.3284192657470704\n",
            "Epoch 41 | Train loss 1.3092649440383912 | Test loss 1.3204386211395263\n",
            "Epoch 42 | Train loss 1.3065189850997925 | Test loss 1.313981753540039\n",
            "Epoch 43 | Train loss 1.2969876821899413 | Test loss 1.306060897254944\n",
            "Epoch 44 | Train loss 1.2962397609710694 | Test loss 1.3188687660217284\n",
            "Epoch 45 | Train loss 1.2971772242736817 | Test loss 1.304351368522644\n",
            "Epoch 46 | Train loss 1.2893245220184326 | Test loss 1.3067796743392945\n",
            "Epoch 47 | Train loss 1.2862551639556885 | Test loss 1.2993423093795777\n",
            "Epoch 48 | Train loss 1.2828434212875366 | Test loss 1.2998230545043945\n",
            "Epoch 49 | Train loss 1.280398911895752 | Test loss 1.2949565677642823\n",
            "Epoch 50 | Train loss 1.2793130306625367 | Test loss 1.2916745582580567\n",
            "Epoch 51 | Train loss 1.2756680257415771 | Test loss 1.2851847806930543\n",
            "Epoch 52 | Train loss 1.2726878273010254 | Test loss 1.2863870477676391\n",
            "Epoch 53 | Train loss 1.2686227864456177 | Test loss 1.281230952835083\n",
            "Epoch 54 | Train loss 1.2696635527420044 | Test loss 1.2886123025894165\n",
            "Epoch 55 | Train loss 1.2637217033004762 | Test loss 1.277580598449707\n",
            "Epoch 56 | Train loss 1.2625115753173828 | Test loss 1.2724175397872926\n",
            "Epoch 57 | Train loss 1.2608125772857666 | Test loss 1.2893032602310182\n",
            "Epoch 58 | Train loss 1.2576221939086913 | Test loss 1.2703497472763061\n",
            "Epoch 59 | Train loss 1.255852673072815 | Test loss 1.2646144323349\n",
            "Epoch 60 | Train loss 1.2543795540237426 | Test loss 1.2688588256835938\n",
            "Epoch 61 | Train loss 1.256852587623596 | Test loss 1.2671246114730834\n",
            "Epoch 62 | Train loss 1.2481028008651733 | Test loss 1.2629134256362915\n",
            "Epoch 63 | Train loss 1.2447281450271606 | Test loss 1.262495838356018\n",
            "Epoch 64 | Train loss 1.2450624941253663 | Test loss 1.2560095897674561\n",
            "Epoch 65 | Train loss 1.2428519437408447 | Test loss 1.269617795753479\n",
            "Epoch 66 | Train loss 1.2405522101211548 | Test loss 1.2517383878707886\n",
            "Epoch 67 | Train loss 1.2409387617111205 | Test loss 1.2505301364898682\n",
            "Epoch 68 | Train loss 1.237114984703064 | Test loss 1.2549581632614135\n",
            "Epoch 69 | Train loss 1.2341874689483643 | Test loss 1.2696648942947388\n",
            "Epoch 70 | Train loss 1.2329527921676635 | Test loss 1.2473779008865356\n",
            "Epoch 71 | Train loss 1.2309862406158447 | Test loss 1.24853279838562\n",
            "Epoch 72 | Train loss 1.224776810874939 | Test loss 1.2425789525985718\n",
            "Epoch 73 | Train loss 1.2263434371185302 | Test loss 1.2510727670669555\n",
            "Epoch 74 | Train loss 1.2244612915420532 | Test loss 1.2459426986694335\n",
            "Epoch 75 | Train loss 1.2210257954406738 | Test loss 1.2355608291625977\n",
            "Epoch 76 | Train loss 1.2266152593612671 | Test loss 1.243053116798401\n",
            "Epoch 77 | Train loss 1.2208809866714478 | Test loss 1.240675157546997\n",
            "Epoch 78 | Train loss 1.2195979885482788 | Test loss 1.2415920991897582\n",
            "Epoch 79 | Train loss 1.2129597074890137 | Test loss 1.232938730621338\n",
            "Epoch 80 | Train loss 1.2136451577377319 | Test loss 1.238523727798462\n",
            "Epoch 81 | Train loss 1.2143349118804931 | Test loss 1.226141508102417\n",
            "Epoch 82 | Train loss 1.210639740409851 | Test loss 1.2371329223632812\n",
            "Epoch 83 | Train loss 1.206389528579712 | Test loss 1.2272539291381837\n",
            "Epoch 84 | Train loss 1.2035261352157594 | Test loss 1.2286827547073365\n",
            "Epoch 85 | Train loss 1.2097947315597535 | Test loss 1.222625901222229\n",
            "Epoch 86 | Train loss 1.2055105276489257 | Test loss 1.223195932006836\n",
            "Epoch 87 | Train loss 1.2028375252151489 | Test loss 1.2229752109527587\n",
            "Epoch 88 | Train loss 1.1986613528823853 | Test loss 1.2199768951416015\n",
            "Epoch 89 | Train loss 1.1964542864608765 | Test loss 1.215568489074707\n",
            "Epoch 90 | Train loss 1.193043201599121 | Test loss 1.2204130952835084\n",
            "Epoch 91 | Train loss 1.195133363456726 | Test loss 1.216773837852478\n",
            "Epoch 92 | Train loss 1.192653811454773 | Test loss 1.2182240510940552\n",
            "Epoch 93 | Train loss 1.1919303254318236 | Test loss 1.2158016382217407\n",
            "Epoch 94 | Train loss 1.1927630899047852 | Test loss 1.2193532247543335\n",
            "Epoch 95 | Train loss 1.1908188192367555 | Test loss 1.2138340494155884\n",
            "Epoch 96 | Train loss 1.189091078300476 | Test loss 1.2103505895614624\n",
            "Epoch 97 | Train loss 1.186118228187561 | Test loss 1.225620785331726\n",
            "Epoch 98 | Train loss 1.186448736152649 | Test loss 1.2096381368637086\n",
            "Epoch 99 | Train loss 1.1846515240097046 | Test loss 1.2065949699401854\n"
          ],
          "name": "stdout"
        }
      ]
    },
    {
      "cell_type": "markdown",
      "metadata": {
        "id": "OJNAuHjNQuvn"
      },
      "source": [
        "Построим график функции потерь"
      ]
    },
    {
      "cell_type": "code",
      "metadata": {
        "id": "F6OEGqriQuvo",
        "colab": {
          "base_uri": "https://localhost:8080/",
          "height": 441
        },
        "outputId": "588635a9-6925-486f-dd05-885ca2730d8f"
      },
      "source": [
        "plt.figure(figsize=(12, 6))\n",
        "plt.plot(range(len(train_l)), train_l, label=\"train\")\n",
        "plt.plot(range(len(test_l)), test_l, label=\"test\")\n",
        "plt.xlabel(\"Epoch\")\n",
        "plt.ylabel(\"Loss\")\n",
        "plt.legend()\n",
        "plt.tight_layout()\n",
        "plt.show()"
      ],
      "execution_count": 61,
      "outputs": [
        {
          "output_type": "display_data",
          "data": {
            "image/png": "[encoded data removed]",
            "text/plain": [
              "<Figure size 864x432 with 1 Axes>"
            ]
          },
          "metadata": {
            "tags": [],
            "needs_background": "light"
          }
        }
      ]
    },
    {
      "cell_type": "markdown",
      "metadata": {
        "id": "miUxg0bDQuvs"
      },
      "source": [
        "И, наконец, посчитаем метрики"
      ]
    },
    {
      "cell_type": "code",
      "metadata": {
        "id": "UXSOJFI8Quvt",
        "colab": {
          "base_uri": "https://localhost:8080/"
        },
        "outputId": "ba139a0d-8380-4d28-a111-53e6213abbe2"
      },
      "source": [
        "true_positive = np.zeros(10)\n",
        "true_negative = np.zeros(10)\n",
        "false_positive = np.zeros(10)\n",
        "false_negative = np.zeros(10)\n",
        "accuracy = 0\n",
        "ctn = 0\n",
        "for X, y in iter(test_loader):\n",
        "    X = X.to(device)\n",
        "    y = y.to(device)\n",
        "    with torch.no_grad():\n",
        "        y_pred = model(X).max(dim=1)[1]\n",
        "    for i in range(10):\n",
        "        for pred, real in zip(y_pred, y):\n",
        "            if real == i:\n",
        "                if pred == real:\n",
        "                    true_positive[i] += 1\n",
        "                else:\n",
        "                    false_negative[i] += 1\n",
        "            else:\n",
        "                if pred == i:\n",
        "                    false_positive[i] += 1\n",
        "                else:\n",
        "                    true_negative[i] += 1\n",
        "            \n",
        "    accuracy += torch.sum(y_pred == y).item()\n",
        "    ctn += len(y)\n",
        "print(\"Overall accuracy\", accuracy / ctn)\n",
        "print(\"Precision\", true_positive / (true_positive + false_positive))\n",
        "print(\"Recall\", true_positive / (true_positive + false_negative))\n",
        "print(\"Mean Precision\", np.mean(true_positive / (true_positive + false_positive)))\n",
        "print(\"Mean Recall\", np.mean(true_positive / (true_positive + false_negative)))"
      ],
      "execution_count": 62,
      "outputs": [
        {
          "output_type": "stream",
          "text": [
            "/usr/local/lib/python3.6/dist-packages/ipykernel_launcher.py:18: UserWarning: Implicit dimension choice for log_softmax has been deprecated. Change the call to include dim=X as an argument.\n"
          ],
          "name": "stderr"
        },
        {
          "output_type": "stream",
          "text": [
            "Overall accuracy 0.5783\n",
            "Precision [0.6502994  0.71629779 0.48598131 0.44814341 0.48771611 0.51015532\n",
            " 0.57164988 0.60329068 0.60993485 0.6833713 ]\n",
            "Recall [0.543 0.712 0.468 0.35  0.536 0.427 0.738 0.66  0.749 0.6  ]\n",
            "Mean Precision 0.5766840036429937\n",
            "Mean Recall 0.5782999999999999\n"
          ],
          "name": "stdout"
        }
      ]
    },
    {
      "cell_type": "code",
      "metadata": {
        "id": "EKA-j4rIQuvv"
      },
      "source": [
        ""
      ],
      "execution_count": null,
      "outputs": []
    }
  ]
}