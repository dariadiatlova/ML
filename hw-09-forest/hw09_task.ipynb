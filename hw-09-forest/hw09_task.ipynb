{
  "nbformat": 4,
  "nbformat_minor": 0,
  "metadata": {
    "kernelspec": {
      "display_name": "Python 3",
      "language": "python",
      "name": "python3"
    },
    "language_info": {
      "codemirror_mode": {
        "name": "ipython",
        "version": 3
      },
      "file_extension": ".py",
      "mimetype": "text/x-python",
      "name": "python",
      "nbconvert_exporter": "python",
      "pygments_lexer": "ipython3",
      "version": "3.7.3"
    },
    "colab": {
      "name": "Diatlova hw09_task.ipynb",
      "provenance": [],
      "collapsed_sections": [],
      "toc_visible": true
    }
  },
  "cells": [
    {
      "cell_type": "markdown",
      "metadata": {
        "id": "1PjQglGj4q54"
      },
      "source": [
        "# Случайные леса\n",
        "__Суммарное количество баллов: 10__\n",
        "\n",
        "__Решение отправлять на `ml.course.practice@gmail.com`__\n",
        "\n",
        "__Тема письма: `[ML][MS][HW09] <ФИ>`, где вместо `<ФИ>` указаны фамилия и имя__\n",
        "\n",
        "В этом задании вам предстоит реализовать ансамбль деревьев решений, известный как случайный лес, применить его к публичным данным пользователей социальной сети Вконтакте, и сравнить его эффективность с ансамблем, предоставляемым библиотекой CatBoost.\n",
        "\n",
        "В результате мы сможем определить, какие подписки пользователей больше всего влияют на определение возраста и пола человека. "
      ]
    },
    {
      "cell_type": "code",
      "metadata": {
        "id": "7OPEFeHL_u7i"
      },
      "source": [
        "pip install catboost"
      ],
      "execution_count": null,
      "outputs": []
    },
    {
      "cell_type": "code",
      "metadata": {
        "id": "LH5PiGz04q5-"
      },
      "source": [
        "from sklearn.model_selection import train_test_split\n",
        "from sklearn import preprocessing\n",
        "from typing import Callable, Union, NoReturn, Optional, Dict, Any, List\n",
        "import numpy as np\n",
        "import pandas\n",
        "import random\n",
        "import matplotlib.pyplot as plt\n",
        "import matplotlib\n",
        "import copy\n",
        "from catboost import CatBoostClassifier"
      ],
      "execution_count": 189,
      "outputs": []
    },
    {
      "cell_type": "code",
      "metadata": {
        "id": "bQUJHTjS4q5-"
      },
      "source": [
        "def gini(x):\n",
        "    _, counts = np.unique(x, return_counts=True)\n",
        "    proba = counts / len(x)\n",
        "    return np.sum(proba * (1 - proba))\n",
        "    \n",
        "def entropy(x):\n",
        "    _, counts = np.unique(x, return_counts=True)\n",
        "    proba = counts / len(x)\n",
        "    return -np.sum(proba * np.log2(proba))\n",
        "\n",
        "def gain(left_y, right_y, criterion):\n",
        "    y = np.concatenate((left_y, right_y))\n",
        "    return criterion(y) - (criterion(left_y) * len(left_y) + criterion(right_y) * len(right_y)) / len(y)"
      ],
      "execution_count": 190,
      "outputs": []
    },
    {
      "cell_type": "markdown",
      "metadata": {
        "id": "tfxycK0Q4q5_"
      },
      "source": [
        "### Задание 1 (2 балла)\n",
        "Random Forest состоит из деревьев решений. Каждое такое дерево строится на одной из выборок, полученных при помощи bagging. Элементы, которые не вошли в новую обучающую выборку, образуют out-of-bag выборку. Кроме того, в каждом узле дерева мы случайным образом выбираем набор из `max_features` и ищем признак для предиката разбиения только в этом наборе.\n",
        "\n",
        "Сегодня мы будем работать только с бинарными признаками, поэтому нет необходимости выбирать значение признака для разбиения.\n",
        "\n",
        "#### Методы\n",
        "`predict(X)` - возвращает предсказанные метки для элементов выборки `X`\n",
        "\n",
        "#### Параметры конструктора\n",
        "`X, y` - обучающая выборка и соответствующие ей метки классов. Из нее нужно получить выборку для построения дерева при помощи bagging. Out-of-bag выборку нужно запомнить, она понадобится потом.\n",
        "\n",
        "`criterion=\"gini\"` - задает критерий, который будет использоваться при построении дерева. Возможные значения: `\"gini\"`, `\"entropy\"`.\n",
        "\n",
        "`max_depth=None` - ограничение глубины дерева. Если `None` - глубина не ограничена\n",
        "\n",
        "`min_samples_leaf=1` - минимальное количество элементов в каждом листе дерева.\n",
        "\n",
        "`max_features=\"auto\"` - количество признаков, которые могут использоваться в узле. Если `\"auto\"` - равно `sqrt(X.shape[1])`"
      ]
    },
    {
      "cell_type": "code",
      "metadata": {
        "id": "zbG33QQp1fJ6"
      },
      "source": [
        "class DecisionTreeLeaf:\n",
        "    def __init__(self, y):\n",
        "        self.y = None\n",
        "        self.leaf_prediction = {}\n",
        "        classes = np.unique(y)\n",
        "        for key in classes:\n",
        "            self.leaf_prediction[key] = len(np.where(y == key)) / len(y)\n",
        "        # self.y = max(self.leaf_prediction, key=self.leaf_prediction.get)\n",
        "        self.y = stats.mode(y)[0][0]\n",
        "\n",
        "\n",
        "class DecisionTreeNode:\n",
        "    def __init__(self, split_feature: int, \n",
        "                 left: Union['DecisionTreeNode', DecisionTreeLeaf], \n",
        "                 right: Union['DecisionTreeNode', DecisionTreeLeaf]):\n",
        "        self.split_feature = split_feature\n",
        "        self.left = left\n",
        "        self.right = right\n"
      ],
      "execution_count": 240,
      "outputs": []
    },
    {
      "cell_type": "code",
      "metadata": {
        "id": "8smLW2V_4q5_"
      },
      "source": [
        "class DecisionTree:\n",
        "    def __init__(self, X, y, criterion=\"gini\", max_depth=100, min_samples_leaf=30, max_features=\"auto\"):\n",
        "        self.min_samples_leaf = min_samples_leaf\n",
        "        self.max_depth = max_depth\n",
        "        if max_features == 'auto':\n",
        "            self.max_features = int(np.sqrt(X.shape[1]))\n",
        "        else:\n",
        "            self.max_features = max_features\n",
        "        self.criterion = gini if criterion == 'gini' else entropy\n",
        "        mask = np.random.randint(0, len(y), size=len(y))   \n",
        "        mask_out = [i for i in np.arange(len(y)) if i not in mask] \n",
        "        self.X = X[mask]\n",
        "        self.y = y[mask]\n",
        "        self.X_out_of_bag = X[mask_out]\n",
        "        self.y_out_of_bag = y[mask_out]   \n",
        "\n",
        "\n",
        "    def split(self, X, y):\n",
        "        n, m = X.shape\n",
        "        best_gain, best_feature = -100, -1\n",
        "        sample_features = np.random.choice(m, size=self.max_features, replace=False)\n",
        "        for feature in sample_features:\n",
        "            mask_left = X[:, feature] == 0\n",
        "            mask_right = X[:, feature] == 1\n",
        "            left = y[mask_left]\n",
        "            right = y[mask_right]\n",
        "            if len(left) < self.min_samples_leaf or len(right) < self.min_samples_leaf:\n",
        "                continue\n",
        "            current_gain = gain(left, right, self.criterion)\n",
        "            if current_gain > best_gain:\n",
        "                best_feature, best_gain = feature, current_gain\n",
        "        return best_feature\n",
        "\n",
        "\n",
        "    def build(self, X: np.ndarray, y: np.ndarray, depth: int):\n",
        "        if depth > self.max_depth or len(np.unique(y)) == 1:\n",
        "            return DecisionTreeLeaf(y)\n",
        "        depth += 1   \n",
        "        best_feature = self.split(X, y)\n",
        "        if best_feature == -1:\n",
        "          return DecisionTreeLeaf(y)\n",
        "        mask_left = X[:, best_feature] == 0\n",
        "        mask_right = X[:, best_feature] == 1\n",
        "        left = self.build(X[mask_left], y[mask_left], depth)\n",
        "        right = self.build(X[mask_right], y[mask_right], depth)\n",
        "        return DecisionTreeNode(best_feature, left, right)\n",
        "\n",
        "\n",
        "    def recursion(self, X, node):\n",
        "        if isinstance(node, DecisionTreeLeaf):\n",
        "            return np.full(X.shape[0], node.y)\n",
        "        res = np.empty(X.shape[0], dtype=np.object)\n",
        "        mask = X[:, node.split_feature] == 0\n",
        "        res[mask] = self.recursion(X[mask], node.left)\n",
        "        res[~mask] = self.recursion(X[~mask], node.right)\n",
        "        return res\n",
        "\n",
        "    def fit(self) -> NoReturn:\n",
        "        self.root = self.build(self.X, self.y, depth=0)\n",
        "    \n",
        "    def predict(self, X : np.ndarray) -> list:\n",
        "        return self.recursion(X, self.root)\n",
        "\n",
        "\n",
        "    def predict_out_of_bag(self) -> np.ndarray:\n",
        "        y_pred = self.predict(self.X_out_of_bag)\n",
        "        accuracy = np.mean(y_pred == self.y_out_of_bag)\n",
        "        features = self.X_out_of_bag.shape[1]\n",
        "        error = np.zeros(features)\n",
        "        for i in range(features):\n",
        "            X_ = self.X_out_of_bag.copy()\n",
        "            X_[:, i] = np.random.permutation(X_[:, i])\n",
        "            y_ = self.predict(X_)\n",
        "            acc_ = np.mean(y_ == self.y_out_of_bag)\n",
        "            error[i] = abs(accuracy - acc_)\n",
        "        return error\n"
      ],
      "execution_count": 241,
      "outputs": []
    },
    {
      "cell_type": "markdown",
      "metadata": {
        "id": "9oijgwLt4q6A"
      },
      "source": [
        "### Задание 2 (2 балла)\n",
        "Теперь реализуем сам Random Forest. Идея очень простая: строим `n` деревьев, а затем берем модальное предсказание.\n",
        "\n",
        "#### Параметры конструктора\n",
        "`n_estimators` - количество используемых для предсказания деревьев.\n",
        "\n",
        "Остальное - параметры деревьев.\n",
        "\n",
        "#### Методы\n",
        "`fit(X, y)` - строит `n_estimators` деревьев по выборке `X`.\n",
        "\n",
        "`predict(X)` - для каждого элемента выборки `X` возвращает самый частый класс, который предсказывают для него деревья."
      ]
    },
    {
      "cell_type": "code",
      "metadata": {
        "id": "APIy88YW4q6A"
      },
      "source": [
        "class RandomForestClassifier:\n",
        "    def __init__(self, criterion=\"gini\", max_depth=100, min_samples_leaf=30, max_features=\"auto\", n_estimators=10):\n",
        "        self.criterion = criterion\n",
        "        self.max_depth = max_depth\n",
        "        self.min_samples_leaf = min_samples_leaf\n",
        "        self.max_features = max_features\n",
        "        self.n_estimators = n_estimators\n",
        "        self.estimators = np.arange(n_estimators)\n",
        "    \n",
        "    def fit(self, X, y):\n",
        "        self.trees = []\n",
        "        for i in self.estimators:\n",
        "            name = 'DecisionTree' + str(i)\n",
        "            name =  (DecisionTree(X, y, criterion=self.criterion, \n",
        "                                  max_depth=self.max_depth, \n",
        "                                  min_samples_leaf=self.min_samples_leaf, \n",
        "                                  max_features=self.max_features))\n",
        "            name.fit()\n",
        "            self.trees.append(name)\n",
        "\n",
        "    \n",
        "    def predict(self, X):\n",
        "        predictions = [[] for _ in range(self.n_estimators)]\n",
        "        for i, instance in enumerate(self.trees):\n",
        "            predictions[i] = instance.predict(X)\n",
        "        res = stats.mode(np.array(predictions), axis=0)[0][0]\n",
        "        return res.reshape(-1)\n",
        "\n",
        "\n",
        "    def out_of_bag(self):\n",
        "        n_errors = [[] for _ in range(self.n_estimators)]    \n",
        "        for j, instance in enumerate(self.trees):\n",
        "            n_errors[j] = instance.predict_out_of_bag()\n",
        "        return np.mean(np.array(n_errors), axis=0)\n",
        "      "
      ],
      "execution_count": 242,
      "outputs": []
    },
    {
      "cell_type": "markdown",
      "metadata": {
        "id": "i80pffMn4q6A"
      },
      "source": [
        "### Задание 3 (2 балла)\n",
        "Часто хочется понимать, насколько большую роль играет тот или иной признак для предсказания класса объекта. Есть различные способы посчитать его важность. Один из простых способов сделать это для Random Forest - посчитать out-of-bag ошибку предсказания `err_oob`, а затем перемешать значения признака `j` и посчитать ее (`err_oob_j`) еще раз. Оценкой важности признака `j` для одного дерева будет разность `err_oob_j - err_oob`, важность для всего леса считается как среднее значение важности по деревьям.\n",
        "\n",
        "Реализуйте функцию `feature_importance`, которая принимает на вход Random Forest и возвращает массив, в котором содержится важность для каждого признака."
      ]
    },
    {
      "cell_type": "code",
      "metadata": {
        "id": "rEmVG1Fl4q6B"
      },
      "source": [
        "def feature_importance(rfc):\n",
        "    importance = rfc.out_of_bag()\n",
        "    return importance\n",
        "\n",
        "def most_important_features(importance, names, k=20):\n",
        "    # Выводит названия k самых важных признаков\n",
        "    idicies = np.argsort(importance)[::-1][:k]\n",
        "    return np.array(names)[idicies]"
      ],
      "execution_count": 243,
      "outputs": []
    },
    {
      "cell_type": "markdown",
      "metadata": {
        "id": "JooN_YKm4q6B"
      },
      "source": [
        "Наконец, пришло время протестировать наше дерево на простом синтетическом наборе данных. В результате точность должна быть примерно равна `1.0`, наибольшее значение важности должно быть у признака с индексом `4`, признаки с индексами `2` и `3`  должны быть одинаково важны, а остальные признаки - не важны совсем."
      ]
    },
    {
      "cell_type": "code",
      "metadata": {
        "id": "8gqYMp994q6B",
        "colab": {
          "base_uri": "https://localhost:8080/"
        },
        "outputId": "15ad854a-0f94-4db4-c996-611b06d718bd"
      },
      "source": [
        "def synthetic_dataset(size):\n",
        "    X = [(np.random.randint(0, 2), np.random.randint(0, 2), i % 6 == 3, \n",
        "          i % 6 == 0, i % 3 == 2, np.random.randint(0, 2)) for i in range(size)]\n",
        "    y = [i % 3 for i in range(size)]\n",
        "    return np.array(X), np.array(y)\n",
        "\n",
        "X, y = synthetic_dataset(1000)\n",
        "rfc = RandomForestClassifier(n_estimators=100)\n",
        "rfc.fit(X, y)\n",
        "print(\"Accuracy:\", np.mean(rfc.predict(X) == y))\n",
        "print(\"Importance:\", feature_importance(rfc))"
      ],
      "execution_count": 244,
      "outputs": [
        {
          "output_type": "stream",
          "text": [
            "Accuracy: 1.0\n",
            "Importance: [0.00511895 0.00460624 0.16411932 0.16351796 0.32871575 0.0055671 ]\n"
          ],
          "name": "stdout"
        }
      ]
    },
    {
      "cell_type": "markdown",
      "metadata": {
        "id": "vRtGOs164q6C"
      },
      "source": [
        "### Задание 4 (1 балл)\n",
        "Теперь поработаем с реальными данными.\n",
        "\n",
        "Выборка состоит из публичных анонимизированных данных пользователей социальной сети Вконтакте. Первые два столбца отражают возрастную группу (`zoomer`, `doomer` и `boomer`) и пол (`female`, `male`). Все остальные столбцы являются бинарными признаками, каждый из них определяет, подписан ли пользователь на определенную группу/публичную страницу или нет.\\\n",
        "\\\n",
        "Необходимо обучить два классификатора, один из которых определяет возрастную группу, а второй - пол.\\\n",
        "\\\n",
        "Эксперименты с множеством используемых признаков и подбор гиперпараметров приветствуются. Лес должен строиться за какое-то разумное время."
      ]
    },
    {
      "cell_type": "code",
      "metadata": {
        "colab": {
          "base_uri": "https://localhost:8080/"
        },
        "id": "A9pu9FaZlSrO",
        "outputId": "dd2b6b7f-dd79-4d8d-c17c-82b89bd57090"
      },
      "source": [
        "from google.colab import drive\n",
        "drive.mount('/content/drive')"
      ],
      "execution_count": 245,
      "outputs": [
        {
          "output_type": "stream",
          "text": [
            "Drive already mounted at /content/drive; to attempt to forcibly remount, call drive.mount(\"/content/drive\", force_remount=True).\n"
          ],
          "name": "stdout"
        }
      ]
    },
    {
      "cell_type": "code",
      "metadata": {
        "id": "HruobK-q4q6C"
      },
      "source": [
        "def read_dataset(path):\n",
        "    dataframe = pandas.read_csv(path, header=0)\n",
        "    dataset = dataframe.values.tolist()\n",
        "    random.shuffle(dataset)\n",
        "    y_age = [row[0] for row in dataset]\n",
        "    y_sex = [row[1] for row in dataset]\n",
        "    X = [row[2:] for row in dataset]\n",
        "    \n",
        "    return np.array(X), np.array(y_age), np.array(y_sex), list(dataframe.columns)[2:]"
      ],
      "execution_count": 246,
      "outputs": []
    },
    {
      "cell_type": "code",
      "metadata": {
        "id": "P8QsyLOPWdNz"
      },
      "source": [
        "def accuracy_score(y_true: np.ndarray, y_pred: np.ndarray) -> float:\n",
        "    y_true = y_true.reshape(-1)\n",
        "    y_pred = y_pred.reshape(-1)\n",
        "    return np.mean(y_true == y_pred)\n",
        "    "
      ],
      "execution_count": 247,
      "outputs": []
    },
    {
      "cell_type": "code",
      "metadata": {
        "id": "K0QXWr3b4q6C"
      },
      "source": [
        "X, y_age, y_sex, features = read_dataset(\"/content/drive/MyDrive/Colab Notebooks/ML/vk.csv\")\n",
        "\n",
        "X_train, X_test, y_age_train, y_age_test, y_sex_train, y_sex_test = train_test_split(X, y_age, y_sex, train_size=0.9)"
      ],
      "execution_count": 251,
      "outputs": []
    },
    {
      "cell_type": "markdown",
      "metadata": {
        "id": "I0y8J97m4q6C"
      },
      "source": [
        "#### Возраст"
      ]
    },
    {
      "cell_type": "code",
      "metadata": {
        "id": "MLJykJZH4q6C",
        "colab": {
          "base_uri": "https://localhost:8080/"
        },
        "outputId": "1429c7ba-2262-4296-955f-0b9efa4a26ce"
      },
      "source": [
        "rfc = RandomForestClassifier(n_estimators=10)\n",
        "rfc.fit(X_train, y_age_train)\n",
        "print(\"Accuracy:\", np.mean(rfc.predict(X_test) == y_age_test))\n",
        "print(\"Most important features:\")\n",
        "for i, name in enumerate(most_important_features(feature_importance(rfc), features, 20)):\n",
        "    print(str(i+1) + \".\", name)"
      ],
      "execution_count": 252,
      "outputs": [
        {
          "output_type": "stream",
          "text": [
            "Accuracy: 0.6897856242118537\n",
            "Most important features:\n",
            "1. 4ch\n",
            "2. ovsyanochan\n",
            "3. mudakoff\n",
            "4. rhymes\n",
            "5. styd.pozor\n",
            "6. dayvinchik\n",
            "7. pravdashowtop\n",
            "8. rapnewrap\n",
            "9. tumblr_vacuum\n",
            "10. iwantyou\n",
            "11. pixel_stickers\n",
            "12. reflexia_our_feelings\n",
            "13. bot_maxim\n",
            "14. girlmeme\n",
            "15. memeboizz\n",
            "16. leprum\n",
            "17. i_d_t\n",
            "18. femalemem\n",
            "19. xfilm\n",
            "20. iloveu01\n"
          ],
          "name": "stdout"
        }
      ]
    },
    {
      "cell_type": "markdown",
      "metadata": {
        "id": "cgNpaAKH4q6D"
      },
      "source": [
        "#### Пол"
      ]
    },
    {
      "cell_type": "code",
      "metadata": {
        "id": "X-zne5-R4q6D",
        "colab": {
          "base_uri": "https://localhost:8080/"
        },
        "outputId": "d2de32ef-c7c0-42fa-a782-4b03418b37f5"
      },
      "source": [
        "rfc = RandomForestClassifier(n_estimators=10)\n",
        "rfc.fit(X_train, y_sex_train)\n",
        "print(\"Accuracy:\", np.mean(rfc.predict(X_test) == y_sex_test))\n",
        "print(\"Most important features:\")\n",
        "for i, name in enumerate(most_important_features(feature_importance(rfc), features, 20)):\n",
        "    print(str(i+1) + \".\", name)"
      ],
      "execution_count": 253,
      "outputs": [
        {
          "output_type": "stream",
          "text": [
            "Accuracy: 0.8310214375788146\n",
            "Most important features:\n",
            "1. 40kg\n",
            "2. girlmeme\n",
            "3. 9o_6o_9o\n",
            "4. i_d_t\n",
            "5. modnailru\n",
            "6. zerofat\n",
            "7. cook_good\n",
            "8. femalemem\n",
            "9. mudakoff\n",
            "10. sh.cook\n",
            "11. psy.people\n",
            "12. rapnewrap\n",
            "13. academyofman\n",
            "14. bon\n",
            "15. reflexia_our_feelings\n",
            "16. igm\n",
            "17. be.beauty\n",
            "18. be.women\n",
            "19. 4ch\n",
            "20. thesmolny\n"
          ],
          "name": "stdout"
        }
      ]
    },
    {
      "cell_type": "markdown",
      "metadata": {
        "id": "pxeTQylQ4q6D"
      },
      "source": [
        "### CatBoost\n",
        "В качестве аьтернативы попробуем CatBoost. \n",
        "\n",
        "Устаниовить его можно просто с помощью `pip install catboost`. Туториалы можно найти, например, [здесь](https://catboost.ai/docs/concepts/python-usages-examples.html#multiclassification) и [здесь](https://github.com/catboost/tutorials/blob/master/python_tutorial.ipynb). Главное - не забудьте использовать `loss_function='MultiClass'`.\\\n",
        "\\\n",
        "Сначала протестируйте CatBoost на синтетических данных. Выведите точность и важность признаков."
      ]
    },
    {
      "cell_type": "code",
      "metadata": {
        "id": "DOqVkEnd4q6D",
        "colab": {
          "base_uri": "https://localhost:8080/"
        },
        "outputId": "ec0b0105-ac39-46f3-c438-578a344dd071"
      },
      "source": [
        "X, y = synthetic_dataset(1000)\n",
        "catboost_model = CatBoostClassifier(loss_function=\"MultiClass\", verbose=False, random_seed=1000)\n",
        "catboost_model.fit(X, y)\n",
        "y_pred = catboost_model.predict(X)\n",
        "print(\"Accuracy:\", accuracy_score(y_pred,y))\n",
        "print(\"Importance:\", catboost_model.feature_importances_)"
      ],
      "execution_count": 180,
      "outputs": [
        {
          "output_type": "stream",
          "text": [
            "Accuracy: 1.0\n",
            "Importance: [1.36787893e-02 6.52116243e-03 2.78813422e+01 2.77952182e+01\n",
            " 4.42948078e+01 8.43188593e-03]\n"
          ],
          "name": "stdout"
        }
      ]
    },
    {
      "cell_type": "markdown",
      "metadata": {
        "id": "tcLRsSNG4q6E"
      },
      "source": [
        "### Задание 5 (3 балла)\n",
        "Попробуем применить один из используемых на практике алгоритмов. В этом нам поможет CatBoost. Также, как и реализованный ними RandomForest, применим его для определения пола и возраста пользователей сети Вконтакте, выведите названия наиболее важных признаков так же, как в задании 3.\\\n",
        "\\\n",
        "Эксперименты с множеством используемых признаков и подбор гиперпараметров приветствуются."
      ]
    },
    {
      "cell_type": "code",
      "metadata": {
        "id": "hJGrQcO-4q6E"
      },
      "source": [
        "X, y_age, y_sex, features = read_dataset(\"/content/drive/MyDrive/Colab Notebooks/ML/vk.csv\")\n",
        "X_train, X_test, y_age_train, y_age_test, y_sex_train, y_sex_test = train_test_split(X, y_age, y_sex, train_size=0.9)\n",
        "X_train, X_eval, y_age_train, y_age_eval, y_sex_train, y_sex_eval = train_test_split(X_train, y_age_train, y_sex_train, train_size=0.8)"
      ],
      "execution_count": 179,
      "outputs": []
    },
    {
      "cell_type": "markdown",
      "metadata": {
        "id": "XA5f_8eC4q6E"
      },
      "source": [
        "#### Возраст"
      ]
    },
    {
      "cell_type": "code",
      "metadata": {
        "id": "qSeUpxPj4q6E",
        "colab": {
          "base_uri": "https://localhost:8080/"
        },
        "outputId": "c57169a2-17c5-4483-b3b9-13f76c0fe69b"
      },
      "source": [
        "catboost_model = CatBoostClassifier(custom_loss=['Accuracy'], random_seed=1000, logging_level='Silent', loss_function='MultiClass')\n",
        "catboost_model.fit(X_train, y_age_train, eval_set=(X_eval, y_age_eval))\n",
        "y_pred = catboost_model.predict(X_test)\n",
        "print(\"Accuracy:\", accuracy_score(y_pred, y_age_test))\n",
        "print(\"Most important features:\")\n",
        "for i, name in enumerate(most_important_features(catboost_model.feature_importances_, features, 10)):\n",
        "    print(str(i+1) + \".\", name)"
      ],
      "execution_count": 183,
      "outputs": [
        {
          "output_type": "stream",
          "text": [
            "Accuracy: 0.7414880201765448\n",
            "Most important features:\n",
            "1. ovsyanochan\n",
            "2. mudakoff\n",
            "3. styd.pozor\n",
            "4. 4ch\n",
            "5. dayvinchik\n",
            "6. rhymes\n",
            "7. rapnewrap\n",
            "8. leprum\n",
            "9. fuck_humor\n",
            "10. xfilm\n"
          ],
          "name": "stdout"
        }
      ]
    },
    {
      "cell_type": "markdown",
      "metadata": {
        "id": "KfYSptm74q6E"
      },
      "source": [
        "#### Пол"
      ]
    },
    {
      "cell_type": "code",
      "metadata": {
        "id": "4rKa-f6F4q6E",
        "colab": {
          "base_uri": "https://localhost:8080/"
        },
        "outputId": "abf4f2db-6755-4d89-f8f8-5d3a583ecb21"
      },
      "source": [
        "catboost_model = CatBoostClassifier(custom_loss=['Accuracy'], random_seed=1000, logging_level='Silent', loss_function='MultiClass')\n",
        "catboost_model.fit(X_train, y_sex_train, eval_set=(X_eval, y_sex_eval))\n",
        "y_pred = catboost_model.predict(X_test)\n",
        "print(\"Accuracy:\", accuracy_score(y_pred, y_sex_test))\n",
        "print(\"Most important features:\")\n",
        "for i, name in enumerate(most_important_features(catboost_model.feature_importances_, features, 10)):\n",
        "    print(str(i+1) + \".\", name)"
      ],
      "execution_count": 184,
      "outputs": [
        {
          "output_type": "stream",
          "text": [
            "Accuracy: 0.8814627994955864\n",
            "Most important features:\n",
            "1. 40kg\n",
            "2. mudakoff\n",
            "3. girlmeme\n",
            "4. rapnewrap\n",
            "5. modnailru\n",
            "6. femalemem\n",
            "7. igm\n",
            "8. i_d_t\n",
            "9. academyofman\n",
            "10. thesmolny\n"
          ],
          "name": "stdout"
        }
      ]
    },
    {
      "cell_type": "code",
      "metadata": {
        "id": "b0-nYB6eZU7y"
      },
      "source": [
        ""
      ],
      "execution_count": null,
      "outputs": []
    }
  ]
}