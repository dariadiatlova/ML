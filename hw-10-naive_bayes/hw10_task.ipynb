{
  "nbformat": 4,
  "nbformat_minor": 0,
  "metadata": {
    "colab": {
      "name": "hw10_task.ipynb",
      "provenance": [],
      "collapsed_sections": []
    },
    "kernelspec": {
      "display_name": "Python 3",
      "language": "python",
      "name": "python3"
    },
    "language_info": {
      "codemirror_mode": {
        "name": "ipython",
        "version": 3
      },
      "file_extension": ".py",
      "mimetype": "text/x-python",
      "name": "python",
      "nbconvert_exporter": "python",
      "pygments_lexer": "ipython3",
      "version": "3.7.3"
    }
  },
  "cells": [
    {
      "cell_type": "markdown",
      "metadata": {
        "id": "WYC9jXnTRvW3"
      },
      "source": [
        "# Наивный Байес и спам\n",
        "__Суммарное количество баллов: 10__\n",
        "\n",
        "__Решение отправлять на `ml.course.practice@gmail.com`__\n",
        "\n",
        "__Тема письма: `[ML][MS][HW10] <ФИ>`, где вместо `<ФИ>` указаны фамилия и имя__"
      ]
    },
    {
      "cell_type": "code",
      "metadata": {
        "id": "gmljLzJDRvW4"
      },
      "source": [
        "from sklearn.model_selection import train_test_split\n",
        "import numpy as np\n",
        "import pandas\n",
        "import random\n",
        "import matplotlib.pyplot as plt\n",
        "from collections import defaultdict, OrderedDict, Counter\n",
        "import matplotlib\n",
        "import copy\n",
        "import spacy\n",
        "from nltk.stem.snowball import SnowballStemmer\n",
        "from nltk.tokenize import word_tokenize\n",
        "from typing import NoReturn, List\n",
        "import re\n",
        "from string import punctuation"
      ],
      "execution_count": 1,
      "outputs": []
    },
    {
      "cell_type": "code",
      "metadata": {
        "id": "VRJVvs51RvW4"
      },
      "source": [
        "import re\n",
        "def read_dataset(filename):\n",
        "    file = open(filename, encoding=\"utf-8\")\n",
        "    x = []\n",
        "    y = []\n",
        "    for line in file:\n",
        "        cl, sms = re.split(\"^(ham|spam)[\\t\\s]+(.*)$\", line)[1:3]\n",
        "        x.append(sms)\n",
        "        y.append(cl)\n",
        "    return np.array(x, dtype=np.str), np.array(y, dtype=np.str)"
      ],
      "execution_count": 2,
      "outputs": []
    },
    {
      "cell_type": "code",
      "metadata": {
        "id": "bTZmo3khRvW5"
      },
      "source": [
        "def get_precision_recall_accuracy(y_pred, y_true):\n",
        "    classes = np.unique(list(y_pred) + list(y_true))\n",
        "    true_positive = dict((c, 0) for c in classes)\n",
        "    true_negative = dict((c, 0) for c in classes)\n",
        "    false_positive = dict((c, 0) for c in classes)\n",
        "    false_negative = dict((c, 0) for c in classes)\n",
        "    for c_pred, c_true in zip(y_pred, y_true):\n",
        "        for c in classes:\n",
        "            if c_true == c:\n",
        "                if c_pred == c_true:\n",
        "                    true_positive[c] = true_positive.get(c, 0) + 1\n",
        "                else:\n",
        "                    false_negative[c] = false_negative.get(c, 0) + 1\n",
        "            else:\n",
        "                if c_pred == c:\n",
        "                    false_positive[c] = false_positive.get(c, 0) + 1\n",
        "                else:\n",
        "                    true_negative[c] = true_negative.get(c, 0) + 1\n",
        "    precision = dict((c, 0 if true_positive[c] == 0 else true_positive[c] / (true_positive[c] + false_positive[c])) for c in classes)\n",
        "    recall = dict((c, 0 if true_positive[c] == 0 else true_positive[c] / (true_positive[c] + false_negative[c])) for c in classes)\n",
        "    accuracy = sum([true_positive[c] for c in classes]) / len(y_pred)\n",
        "    return precision, recall, accuracy\n",
        "\n",
        "def plot_precision_recall(X_train, y_train, X_test, y_test, bow_method, voc_sizes=range(4, 200, 5)):\n",
        "    classes = np.unique(list(y_train) + list(y_test))\n",
        "    precisions = dict([(c, []) for c in classes])\n",
        "    recalls = dict([(c, []) for c in classes])\n",
        "    accuracies = []\n",
        "    for v in voc_sizes:\n",
        "        bow = bow_method(X_train, voc_limit=v)\n",
        "        X_train_transformed = bow.transform(X_train)\n",
        "        X_test_transformed = bow.transform(X_test)\n",
        "        classifier = NaiveBayes(0.001)\n",
        "        classifier.fit(X_train_transformed, y_train)\n",
        "        y_pred = classifier.predict(X_test_transformed)\n",
        "        precision, recall, acc = get_precision_recall_accuracy(y_pred, y_test)\n",
        "        for c in classes:\n",
        "            precisions[c].append(precision[c])\n",
        "            recalls[c].append(recall[c])\n",
        "        accuracies.append(acc)\n",
        "    def plot(x, ys, ylabel, legend=True):        \n",
        "        plt.figure(figsize = (12, 3))\n",
        "        plt.xlabel(\"Vocabulary size\")\n",
        "        plt.ylabel(ylabel)\n",
        "        plt.xlim(x[0], x[-1])\n",
        "        plt.ylim(np.min(list(ys.values()))-0.01, np.max(list(ys.values()))+0.01)\n",
        "        for c in ys.keys():\n",
        "            plt.plot(x, ys[c], label=\"Class \" + str(c))\n",
        "        if legend:\n",
        "            plt.legend()\n",
        "        plt.tight_layout()\n",
        "        plt.show()\n",
        "    \n",
        "    plot(voc_sizes, recalls, \"Recall\")\n",
        "    plot(voc_sizes, precisions, \"Precision\")\n",
        "    plot(voc_sizes, {\"\":accuracies}, \"Accuracy\", legend=False)"
      ],
      "execution_count": 3,
      "outputs": []
    },
    {
      "cell_type": "code",
      "metadata": {
        "colab": {
          "base_uri": "https://localhost:8080/"
        },
        "id": "GrW1nyTJaPt0",
        "outputId": "55c156ed-25c1-4a25-d842-dbc6f8bdaed5"
      },
      "source": [
        "from google.colab import drive\n",
        "drive.mount('/content/drive')"
      ],
      "execution_count": 4,
      "outputs": [
        {
          "output_type": "stream",
          "text": [
            "Drive already mounted at /content/drive; to attempt to forcibly remount, call drive.mount(\"/content/drive\", force_remount=True).\n"
          ],
          "name": "stdout"
        }
      ]
    },
    {
      "cell_type": "code",
      "metadata": {
        "id": "9YKoYXwsRvW5"
      },
      "source": [
        "X, y = read_dataset(\"/content/drive/MyDrive/Colab Notebooks/ML/spam\")"
      ],
      "execution_count": 5,
      "outputs": []
    },
    {
      "cell_type": "code",
      "metadata": {
        "id": "GCmIbwv6RvW5"
      },
      "source": [
        "X_train, X_test, y_train, y_test = train_test_split(X, y, train_size=0.9, random_state=128)"
      ],
      "execution_count": 84,
      "outputs": []
    },
    {
      "cell_type": "markdown",
      "metadata": {
        "id": "oJe5cDxDRvW5"
      },
      "source": [
        "### Задание 1 (3 балла)\n",
        "Реализуйте классификацию методом Байеса в предположении независимости компонент `x`. При реализации следует считать, что значения каждой компоненты дискретны, а `p(x|y)` имеет мультиномиальное распределение.\n",
        "\n",
        "#### Методы\n",
        "`fit(X, y)` - оценивает параметры распределения `p(x|y)` для каждого `y`. \n",
        "\n",
        "`log_proba(X)` - для каждого элемента набора `X` считает логарифм вероятности отнести его к каждому классу. По теореме Байеса: `p(y|x) = p(y)p(x|y)/p(x)`. Соответственно, после логарифмирования: `log p(y|x) = log p(y) + log p(x|y) - log p(x)`. Поскольку `log p(x)` является независящей от класса `y` константой, это слагаемое никак не влияет на решение задачи максимизации. Поэтому его можно просто убрать для простоты."
      ]
    },
    {
      "cell_type": "code",
      "metadata": {
        "id": "fM4AG5NUv718"
      },
      "source": [
        "class NaiveBayes:\n",
        "    def __init__(self, alpha: float):\n",
        "        \"\"\"\n",
        "        Parameters\n",
        "        ----------\n",
        "        alpha : float\n",
        "            Параметр аддитивной регуляризации.\n",
        "        \"\"\"\n",
        "        self.alpha = alpha\n",
        "        self.n_classes = 2\n",
        "        self.logprobs_ham = None\n",
        "        self.logprobs_spam = None\n",
        "\n",
        "\n",
        "    def fit(self, X: np.ndarray, y: np.ndarray) -> NoReturn:\n",
        "        \"\"\"\n",
        "        Оценивает параметры распределения p(x|y) для каждого y.\n",
        "        \"\"\"\n",
        "        self.classes, self.classes_count = np.unique(y, return_counts=True) \n",
        "        self.ham_log_prob = np.log(self.classes_count[0] / self.classes_count.sum())\n",
        "        self.spam_log_prob = np.log(self.classes_count[1] / self.classes_count.sum())\n",
        "        vocab_size = X.shape[1]\n",
        "\n",
        "        ham_mask = y == 'ham'\n",
        "        spam_mask = y == 'spam'\n",
        "\n",
        "        ham_word_counts = np.sum(X[ham_mask], axis=0)\n",
        "        spam_word_counts = np.sum(X[spam_mask], axis=0)\n",
        "\n",
        "        total_ham = ham_word_counts.sum()\n",
        "        total_spam = spam_word_counts.sum()     \n",
        "\n",
        "        self.logprobs_ham = (np.log((ham_word_counts + self.alpha) / \n",
        "                                    (total_ham + self.alpha * vocab_size)))\n",
        "       \n",
        "        self.logprobs_spam = (np.log((spam_word_counts + self.alpha) / \n",
        "                                    (total_spam + self.alpha * vocab_size)))\n",
        "        \n",
        "\n",
        "    def predict(self, X: np.ndarray) -> list:\n",
        "        \"\"\"\n",
        "        Return\n",
        "        ------\n",
        "        list\n",
        "            Предсказанный класс для каждого элемента из набора X.\n",
        "        \"\"\"\n",
        "        y_pred = [self.classes[i] for i in np.argmax(self.log_proba(X), axis=1)]\n",
        "        return y_pred\n",
        "\n",
        "    def log_proba(self, X: np.ndarray) -> np.ndarray:\n",
        "        \"\"\"\n",
        "        Return\n",
        "        ------\n",
        "        np.ndarray\n",
        "            Для каждого элемента набора X - логарифм вероятности отнести его\n",
        "            к каждому классу.\n",
        "            Матрица размера (X.shape[0], n_classes)\n",
        "        \"\"\"\n",
        "        n_sentences, vocab_size = X.shape      \n",
        "        X_logprobs = np.zeros((n_sentences, self.n_classes), dtype=np.float32)\n",
        "        X_logprobs += (self.ham_log_prob, self.spam_log_prob)\n",
        "\n",
        "        X_logprobs[:, 0] += np.sum(X * self.logprobs_ham, axis=1)\n",
        "        X_logprobs[:, 1] += np.sum(X * self.logprobs_spam, axis=1)\n",
        "\n",
        "        return X_logprobs"
      ],
      "execution_count": 98,
      "outputs": []
    },
    {
      "cell_type": "markdown",
      "metadata": {
        "id": "7FN-thBWRvW5"
      },
      "source": [
        "### Задание 2 (3 балла)\n",
        "Теперь реализуем метод bag of words. Задача состоит в том, чтобы посчитать количество вхождений каждого слова в предложение.\n",
        "\n",
        "#### Методы\n",
        "`__init__(X, voc_limit)` - инициализирует BoW, составляя словарь, который будет использоваться для векторизации предложений. Размер словаря должен быть не больше `voc_limit`, в него должны входить самые часто встречающиеся в выборке слова.\n",
        "\n",
        "`transform(X)` - векторизует сообщения из набора."
      ]
    },
    {
      "cell_type": "code",
      "metadata": {
        "id": "IF-Eer3MRvW5"
      },
      "source": [
        "class BoW:\n",
        "    def __init__(self, X: np.ndarray, voc_limit: int = 1000):\n",
        "        \"\"\"\n",
        "        Составляет словарь, который будет использоваться для\n",
        "        векторизации предложений.\n",
        "\n",
        "        Parameters\n",
        "        ----------\n",
        "        X : np.ndarray\n",
        "            Массив строк (предложений) размерности (n_sentences, ),\n",
        "            по которому будет составляться словарь.\n",
        "        voc_limit : int\n",
        "            Максимальное число слов в словаре.\n",
        "\n",
        "        \"\"\"\n",
        "        self.voc_limit = voc_limit\n",
        "        self.vocabulary = self._create_vocab(X)\n",
        "        self.v_encoding = {v: k for k, v in enumerate(self.vocabulary)}\n",
        "\n",
        "\n",
        "    def _sentence_preprocessing(self, sentence) -> list:\n",
        "        sentence = sentence.lower()\n",
        "        sentence = sentence.translate(str.maketrans('', '', punctuation)).split()\n",
        "        return sentence\n",
        "\n",
        "\n",
        "    def _create_vocab(self, X: np.ndarray) -> np.ndarray:\n",
        "      sentences = []\n",
        "      for sentence in X:\n",
        "          sentences.extend(self._sentence_preprocessing(sentence))\n",
        "      sentences = np.array(sentences)\n",
        "      vocabulary, word_freq = np.unique(sentences, return_counts=True)\n",
        "      return vocabulary[(-word_freq).argsort()][:self.voc_limit]\n",
        "\n",
        "\n",
        "    def transform(self, X: np.ndarray) -> np.ndarray:\n",
        "        \"\"\"\n",
        "        Векторизует предложения.\n",
        "\n",
        "        Parameters\n",
        "        ----------\n",
        "        X : np.ndarray\n",
        "            Массив строк (предложений) размерности (n_sentences, ),\n",
        "            который необходимо векторизовать.\n",
        "\n",
        "        Return\n",
        "        ------\n",
        "        np.ndarray\n",
        "            Матрица векторизованных предложений размерности\n",
        "            (n_sentences, vocab_size)\n",
        "        \"\"\"\n",
        "        n_sentences = X.shape[0]\n",
        "        X_bow = np.zeros((n_sentences, self.voc_limit), dtype=int)\n",
        "        for i, sentence in enumerate(X):\n",
        "            sentence = self._sentence_preprocessing(sentence)\n",
        "            row = np.zeros(self.voc_limit, dtype=int)\n",
        "            for word in sentence:\n",
        "                try:\n",
        "                    idx = self.v_encoding[word]\n",
        "                    row[idx] += 1\n",
        "                except:\n",
        "                    continue\n",
        "            X_bow[i, :] = row.copy()\n",
        "        return X_bow\n"
      ],
      "execution_count": 80,
      "outputs": []
    },
    {
      "cell_type": "code",
      "metadata": {
        "id": "VuSY9FEARvW5"
      },
      "source": [
        "bow = BoW(X_train, voc_limit=500)\n",
        "X_train_bow = bow.transform(X_train)\n",
        "X_test_bow = bow.transform(X_test)"
      ],
      "execution_count": 92,
      "outputs": []
    },
    {
      "cell_type": "code",
      "metadata": {
        "id": "Qc_XEWnQRvW5",
        "colab": {
          "base_uri": "https://localhost:8080/"
        },
        "outputId": "271de626-bdc1-4c2b-a8eb-8efa4ea3215a"
      },
      "source": [
        "predictor = NaiveBayes(0.001)\n",
        "predictor.fit(X_train_bow, y_train)\n",
        "get_precision_recall_accuracy(predictor.predict(X_test_bow), y_test)"
      ],
      "execution_count": 99,
      "outputs": [
        {
          "output_type": "execute_result",
          "data": {
            "text/plain": [
              "({'ham': 0.9817444219066938, 'spam': 0.9076923076923077},\n",
              " {'ham': 0.9877551020408163, 'spam': 0.8676470588235294},\n",
              " 0.9731182795698925)"
            ]
          },
          "metadata": {
            "tags": []
          },
          "execution_count": 99
        }
      ]
    },
    {
      "cell_type": "code",
      "metadata": {
        "id": "gVALRDXsRvW5",
        "colab": {
          "base_uri": "https://localhost:8080/",
          "height": 641
        },
        "outputId": "40762c10-b891-4f65-a53b-eb9de03d2202"
      },
      "source": [
        "plot_precision_recall(X_train, y_train, X_test, y_test, BoW)"
      ],
      "execution_count": 83,
      "outputs": [
        {
          "output_type": "display_data",
          "data": {
            "image/png": "[encoded data removed]",
            "text/plain": [
              "<Figure size 864x216 with 1 Axes>"
            ]
          },
          "metadata": {
            "tags": [],
            "needs_background": "light"
          }
        },
        {
          "output_type": "display_data",
          "data": {
            "image/png": "[encoded data removed]",
            "text/plain": [
              "<Figure size 864x216 with 1 Axes>"
            ]
          },
          "metadata": {
            "tags": [],
            "needs_background": "light"
          }
        },
        {
          "output_type": "display_data",
          "data": {
            "image/png": "[encoded data removed]",
            "text/plain": [
              "<Figure size 864x216 with 1 Axes>"
            ]
          },
          "metadata": {
            "tags": [],
            "needs_background": "light"
          }
        }
      ]
    },
    {
      "cell_type": "markdown",
      "metadata": {
        "id": "hGk3atjoRvW5"
      },
      "source": [
        "### Задание 3 (2 балла)\n",
        "Теперь добавим в BoW стемминг. Для этого нам понадобится класс SnowballStemmer из пакета `nltk`\n",
        "\n",
        "#### Методы\n",
        "`__init__(X, voc_limit)` - инициализирует BoW, составляя словарь, который будет использоваться для векторизации предложений. Размер словаря должен быть не больше `voc_limit`, в него должны входить самые часто встречающиеся в выборке слова.\n",
        "\n",
        "`transform(X)` - векторизует сообщения из набора."
      ]
    },
    {
      "cell_type": "code",
      "metadata": {
        "id": "VSNUl3P_RvW5"
      },
      "source": [
        "class BowStem:\n",
        "    def __init__(self, X: np.ndarray, voc_limit: int = 1000):\n",
        "        \"\"\"\n",
        "        Составляет словарь, который будет использоваться для векторизации предложений.\n",
        "\n",
        "        Parameters\n",
        "        ----------\n",
        "        X : np.ndarray\n",
        "            Массив строк (предложений) размерности (n_sentences, ), \n",
        "            по которому будет составляться словарь.\n",
        "        voc_limit : int\n",
        "            Максимальное число слов в словаре.\n",
        "\n",
        "        \"\"\"\n",
        "\n",
        "        self.voc_limit = voc_limit\n",
        "        self.vocabulary = self._create_vocab(X)\n",
        "        self.v_encoding = {v: k for k, v in enumerate(self.vocabulary)}\n",
        "\n",
        "\n",
        "    def _sentence_preprocessing(self, sentence) -> list:\n",
        "        stemmer = SnowballStemmer(\"english\")\n",
        "        sentence = sentence.translate(str.maketrans('', '', punctuation)).split()\n",
        "        return [stemmer.stem(word) for word in sentence]\n",
        "\n",
        "\n",
        "    def _create_vocab(self, X: np.ndarray) -> np.ndarray:\n",
        "      sentences = []\n",
        "      for sentence in X:\n",
        "          sentences.extend(self._sentence_preprocessing(sentence))\n",
        "      sentences = np.array(sentences)\n",
        "      vocabulary, word_freq = np.unique(sentences, return_counts=True)\n",
        "      return vocabulary[(-word_freq).argsort()][:self.voc_limit]\n",
        "\n",
        "        \n",
        "    def transform(self, X: np.ndarray) -> np.ndarray:\n",
        "        \"\"\"\n",
        "        Векторизует предложения.\n",
        "\n",
        "        Parameters\n",
        "        ----------\n",
        "        X : np.ndarray\n",
        "            Массив строк (предложений) размерности (n_sentences, ),\n",
        "            который необходимо векторизовать.\n",
        "\n",
        "        Return\n",
        "        ------\n",
        "        np.ndarray\n",
        "            Матрица векторизованных предложений размерности\n",
        "            (n_sentences, vocab_size)\n",
        "        \"\"\"\n",
        "        n_sentences = X.shape[0]\n",
        "        X_bow = np.zeros((n_sentences, self.voc_limit), dtype=int)\n",
        "        for i, sentence in enumerate(X):\n",
        "            sentence = self._sentence_preprocessing(sentence)\n",
        "            row = np.zeros(self.voc_limit, dtype=int)\n",
        "            for word in sentence:\n",
        "                try:\n",
        "                    idx = self.v_encoding[word]\n",
        "                    row[idx] += 1\n",
        "                except:\n",
        "                    continue\n",
        "            X_bow[i, :] = row.copy()\n",
        "        return X_bow"
      ],
      "execution_count": 102,
      "outputs": []
    },
    {
      "cell_type": "code",
      "metadata": {
        "id": "qPZTK_O0RvW5"
      },
      "source": [
        "bows = BowStem(X_train, voc_limit=500)\n",
        "X_train_bows = bows.transform(X_train)\n",
        "X_test_bows = bows.transform(X_test)"
      ],
      "execution_count": 103,
      "outputs": []
    },
    {
      "cell_type": "code",
      "metadata": {
        "id": "qrHhPYWhRvW5",
        "colab": {
          "base_uri": "https://localhost:8080/"
        },
        "outputId": "86b7ba78-a70c-4ad3-ea26-40b3f7c8a264"
      },
      "source": [
        "predictor = NaiveBayes(0.001)\n",
        "predictor.fit(X_train_bows, y_train)\n",
        "get_precision_recall_accuracy(predictor.predict(X_test_bows), y_test)"
      ],
      "execution_count": 104,
      "outputs": [
        {
          "output_type": "execute_result",
          "data": {
            "text/plain": [
              "({'ham': 0.9857723577235772, 'spam': 0.9242424242424242},\n",
              " {'ham': 0.9897959183673469, 'spam': 0.8970588235294118},\n",
              " 0.978494623655914)"
            ]
          },
          "metadata": {
            "tags": []
          },
          "execution_count": 104
        }
      ]
    },
    {
      "cell_type": "code",
      "metadata": {
        "id": "9-LzCffuRvW5",
        "colab": {
          "base_uri": "https://localhost:8080/",
          "height": 641
        },
        "outputId": "9d1984ed-b109-4ba9-f9fb-c249ad5f7d55"
      },
      "source": [
        "plot_precision_recall(X_train, y_train, X_test, y_test, BowStem)"
      ],
      "execution_count": 105,
      "outputs": [
        {
          "output_type": "display_data",
          "data": {
            "image/png": "[encoded data removed]",
            "text/plain": [
              "<Figure size 864x216 with 1 Axes>"
            ]
          },
          "metadata": {
            "tags": [],
            "needs_background": "light"
          }
        },
        {
          "output_type": "display_data",
          "data": {
            "image/png": "[encoded data removed]",
            "text/plain": [
              "<Figure size 864x216 with 1 Axes>"
            ]
          },
          "metadata": {
            "tags": [],
            "needs_background": "light"
          }
        },
        {
          "output_type": "display_data",
          "data": {
            "image/png": "[encoded data removed]",
            "text/plain": [
              "<Figure size 864x216 with 1 Axes>"
            ]
          },
          "metadata": {
            "tags": [],
            "needs_background": "light"
          }
        }
      ]
    },
    {
      "cell_type": "code",
      "metadata": {
        "id": "58GwS5gARvW5"
      },
      "source": [
        ""
      ],
      "execution_count": null,
      "outputs": []
    }
  ]
}