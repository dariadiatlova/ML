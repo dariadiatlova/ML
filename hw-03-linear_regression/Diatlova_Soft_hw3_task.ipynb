{
 "cells": [
  {
   "cell_type": "markdown",
   "metadata": {
    "id": "afIgLBWb689l"
   },
   "source": [
    "# Линейная регрессия\n",
    "__Суммарное количество баллов: 10__\n",
    "\n",
    "__Решение отправлять на `ml.course.practice@gmail.com`__\n",
    "\n",
    "__Тема письма: `[ML][MS][HW03] <ФИ>`, где вместо `<ФИ>` указаны фамилия и имя__"
   ]
  },
  {
   "cell_type": "code",
   "execution_count": 2,
   "metadata": {
    "id": "bYKrc1lO689l"
   },
   "outputs": [],
   "source": [
    "from sklearn.datasets import make_blobs, make_moons\n",
    "from sklearn.model_selection import train_test_split\n",
    "import numpy as np\n",
    "import random\n",
    "import matplotlib.pyplot as plt\n",
    "import matplotlib\n",
    "import copy"
   ]
  },
  {
   "cell_type": "code",
   "execution_count": 3,
   "metadata": {
    "id": "VOGx85I5689m"
   },
   "outputs": [],
   "source": [
    "def read_data(path=\"boston.csv\"):\n",
    "    dataframe = np.genfromtxt(path, delimiter=\",\", skip_header=15)\n",
    "    np.random.seed(42)\n",
    "    np.random.shuffle(dataframe)\n",
    "    X = dataframe[:, :-1]\n",
    "    y = dataframe[:, -1]\n",
    "    return X, y"
   ]
  },
  {
   "cell_type": "code",
   "execution_count": 4,
   "metadata": {
    "id": "tte75xx7689m"
   },
   "outputs": [],
   "source": [
    "def generate_synthetic(size:int, dim=6, noise=0.1):\n",
    "    X = np.random.randn(size, dim)\n",
    "    w = np.random.randn(dim + 1)\n",
    "    noise = noise * np.random.randn(size)\n",
    "    y = X.dot(w[1:]) + w[0] + noise\n",
    "    return X, y"
   ]
  },
  {
   "cell_type": "markdown",
   "metadata": {
    "id": "Aab8Oyui689m"
   },
   "source": [
    "### Задание 1 (1 балл)\n",
    "Для начала нужно понять, какую метрику для ошибки будем использовать. В нашем случае нам подойдет стандартная метрика MSE. Также чтобы оценить качество модели нам понадобится метрика $R^2$. Реализуйте обе эти метрики."
   ]
  },
  {
   "cell_type": "code",
   "execution_count": 196,
   "metadata": {
    "id": "RDUbABpp689m"
   },
   "outputs": [],
   "source": [
    "def mse(y_true:np.ndarray, y_predicted:np.ndarray):\n",
    "\n",
    "    return np.mean(np.square(y_predicted - y_true))\n",
    "\n",
    "def r2(y_true:np.ndarray, y_predicted:np.ndarray):\n",
    "    u, v = 0, 0\n",
    "    y_mean = 1/len(y_true) * (sum(y_true))\n",
    "    for i in range(len(y_true)):\n",
    "        u += (y_predicted[i] - y_true[i])**2\n",
    "        v += (y_mean - y_true[i])**2  \n",
    "        \n",
    "    return (1 - u/v)"
   ]
  },
  {
   "cell_type": "markdown",
   "metadata": {
    "id": "Qqlg3KeW689m"
   },
   "source": [
    "### Задание 2 (3 балла)\n",
    "Теперь реализуем линейную регрессию при помощи явного решения задачи минимизации. \n",
    "\n",
    "#### Методы\n",
    "`fit(X, y)` - решает задачу минимизации $\\arg\\min_{w, b}\\sum ((w\\cdot x + b) - y)^2$. \n",
    "\n",
    "`predict(X)` - строит предсказание `y` для объектов из `X`."
   ]
  },
  {
   "cell_type": "code",
   "execution_count": 197,
   "metadata": {
    "id": "zTGLaghB689m"
   },
   "outputs": [],
   "source": [
    "class NormalLR:\n",
    "    def __init__(self):\n",
    "        self.w = None\n",
    "    \n",
    "    def fit(self, X:np.ndarray, y:np.ndarray):\n",
    "        X_new = X.copy()\n",
    "        X_new = np.hstack((np.ones((X_new.shape[0], 1)), X_new))\n",
    "        w = np.linalg.inv(X_new.T @ X_new) @ (X_new.T @ y)\n",
    "        self.w = w\n",
    "    \n",
    "    def predict(self, X:np.ndarray) -> np.ndarray:\n",
    "        X_new = X.copy()\n",
    "        X_new = np.hstack((np.ones((X_new.shape[0], 1)), X_new))\n",
    "        return X_new @ self.w"
   ]
  },
  {
   "cell_type": "code",
   "execution_count": 198,
   "metadata": {
    "id": "hgS8c_sM689m"
   },
   "outputs": [],
   "source": [
    "X, y = generate_synthetic(1024)\n",
    "X_train, X_test, y_train, y_test = train_test_split(X, y, train_size=0.8)"
   ]
  },
  {
   "cell_type": "code",
   "execution_count": 199,
   "metadata": {
    "id": "9DjhMRug689m"
   },
   "outputs": [
    {
     "name": "stdout",
     "output_type": "stream",
     "text": [
      "MSE: 0.01168333047554514, R2: 0.9974097657778892\n"
     ]
    }
   ],
   "source": [
    "regr = NormalLR()\n",
    "regr.fit(X_train, y_train)\n",
    "y_pred = regr.predict(X_test)\n",
    "print(f\"MSE: {mse(y_test, y_pred)}, R2: {r2(y_test, y_pred)}\")"
   ]
  },
  {
   "cell_type": "markdown",
   "metadata": {
    "id": "rPaByJZN689m"
   },
   "source": [
    "### Задание 3 (2 балла)\n",
    "Теперь реализуем линейную регрессию с использованием градиентного спуска с larning rate `alpha` в течении `iterations` итераций. В задании необходимо использовать регуляризацию Лассо с коэффициентом `l`.\n",
    "\n",
    "#### Методы\n",
    "`fit(X, y)` - приближает решение задачи минимизации $\\arg\\min_{w, b}\\sum ((w\\cdot x + b) - y)^2$ при помощи градиентного спуска. \n",
    "\n",
    "\n",
    "`predict(X)` - строит предсказание `y` для объектов из `X`."
   ]
  },
  {
   "cell_type": "code",
   "execution_count": 281,
   "metadata": {
    "id": "oBmZJrhL689m"
   },
   "outputs": [],
   "source": [
    "class GradientLR:\n",
    "            \n",
    "    def oracle(self, w):\n",
    "        \n",
    "        return (1 / self.X.shape[0]) * (self.X.T @ (self.X @ w - self.y) + self.l * np.sign(w))\n",
    "    \n",
    "    def __init__(self, alpha:float, iterations=10000, l=0.):\n",
    "        \n",
    "        self.alpha = alpha\n",
    "        self.iterations = iterations\n",
    "        self.l = l\n",
    "        self.oracle = GradientLR.oracle\n",
    "        self.w = None\n",
    "           \n",
    "    def fit(self, X:np.ndarray, y:np.ndarray):\n",
    "        X_new = X.copy()\n",
    "        X_new = np.hstack((np.ones((X_new.shape[0], 1)), X_new))\n",
    "        self.X = X_new\n",
    "        self.y = y\n",
    "        w = np.ones(X_new.shape[1])\n",
    "\n",
    "        grad_start = np.linalg.norm(self.oracle(self, w))\n",
    "        d = -self.oracle(self, w)\n",
    "        \n",
    "        for i in range(self.iterations):\n",
    "\n",
    "            grad = self.oracle(self, w)\n",
    "            if (np.linalg.norm(grad)**2 / (grad_start)**2) <= 1e-8:\n",
    "                break\n",
    "            else:\n",
    "                d = -self.oracle(self, w)\n",
    "                w = w + (self.alpha * d)\n",
    "\n",
    "        self.w = w  \n",
    "        return self.w\n",
    "    \n",
    "    def predict(self, X:np.ndarray): \n",
    "        X_new = X.copy()\n",
    "        X_new = np.hstack((np.ones((X_new.shape[0], 1)), X_new))\n",
    "        return X_new @ self.w\n",
    "    \n",
    "    @property\n",
    "    def get_w_(self):\n",
    "        return self.w[1:]"
   ]
  },
  {
   "cell_type": "code",
   "execution_count": 238,
   "metadata": {
    "id": "OPG6AR_b689m"
   },
   "outputs": [],
   "source": [
    "def build_plot(X_train, y_train, X_test, y_test):\n",
    "    xs = np.arange(0.0, 0.002, 0.00002)\n",
    "    errors = []\n",
    "    for x in xs:\n",
    "        regr = GradientLR(0.1, iterations=10000, l=x)\n",
    "        regr.fit(X_train, y_train)\n",
    "        errors.append(mse(y_test, regr.predict(X_test)))\n",
    "    plt.figure(figsize=(9, 4))\n",
    "    plt.xlim(xs[0], xs[-1])\n",
    "    plt.grid()\n",
    "    plt.plot(xs, errors)\n",
    "    plt.xlabel(\"xs\")\n",
    "    plt.ylabel(\"errors\")\n",
    "    plt.show()"
   ]
  },
  {
   "cell_type": "code",
   "execution_count": 239,
   "metadata": {
    "id": "6D5_9sSc689m"
   },
   "outputs": [],
   "source": [
    "X, y = generate_synthetic(1024)\n",
    "X, X_val, y, y_val = train_test_split(X, y, train_size=0.9, shuffle=True)\n",
    "X_train, X_test, y_train, y_test = train_test_split(X, y, train_size=0.8, shuffle=True)"
   ]
  },
  {
   "cell_type": "code",
   "execution_count": 240,
   "metadata": {
    "id": "OzRIkE7P689m"
   },
   "outputs": [
    {
     "data": {
      "image/png": "[encoded data removed]",
      "text/plain": [
       "<Figure size 648x288 with 1 Axes>"
      ]
     },
     "metadata": {
      "needs_background": "light"
     },
     "output_type": "display_data"
    }
   ],
   "source": [
    "build_plot(X_train, y_train, X_val, y_val)"
   ]
  },
  {
   "cell_type": "code",
   "execution_count": 241,
   "metadata": {
    "id": "e3EYauPK689m"
   },
   "outputs": [
    {
     "name": "stdout",
     "output_type": "stream",
     "text": [
      "MSE: 0.009550439356752016, R2: 0.9986858454123442\n"
     ]
    }
   ],
   "source": [
    "regr = GradientLR(0.1, iterations=10000)\n",
    "regr.fit(X_train, y_train)\n",
    "y_pred = regr.predict(X_test)\n",
    "print(f\"MSE: {mse(y_test, y_pred)}, R2: {r2(y_test, y_pred)}\")"
   ]
  },
  {
   "cell_type": "markdown",
   "metadata": {
    "id": "S_WtOSFG689m"
   },
   "source": [
    "### Задание 4 (2 балла)\n",
    "Протесируйте оба метода на данных `boston.csv`, для градиентного спуска постройте график зависимости ошибки от коэффициента регуляризации. "
   ]
  },
  {
   "cell_type": "code",
   "execution_count": 283,
   "metadata": {
    "id": "_einEvle689m"
   },
   "outputs": [],
   "source": [
    "X, y = read_data()\n",
    "X_train, X_val, y_train, y_val = train_test_split(X, y, train_size=0.8, shuffle=False)\n",
    "\n",
    "x_max = np.amax(X_train, axis=0)\n",
    "x_min = np.amin(X_train, axis=0)\n",
    "y_min = np.min(y_train)\n",
    "y_max = np.max(y_train)\n",
    "\n",
    "\n",
    "def scaling_x(X, x_max = x_max, x_min = x_min):\n",
    "    for i in range(X.shape[0]):\n",
    "        for j in range(X.shape[1]):\n",
    "            X[i][j] = (X[i][j] - x_min[j]) / (x_max[j] - x_min[j])\n",
    "    return X\n",
    "            \n",
    "def scaling_y(y, y_min = y_min, y_max = y_max):\n",
    "    for i in range(len(y)):\n",
    "        y[i] = (y[i] - y_min) / (y_max - y_min)\n",
    "    return y\n",
    "        \n",
    "X_train = scaling_x(X_train)\n",
    "X_val = scaling_x(X_val)\n",
    "y_train = scaling_y(y_train)\n",
    "y_val = scaling_y(y_val)"
   ]
  },
  {
   "cell_type": "code",
   "execution_count": 284,
   "metadata": {
    "id": "jBswiVjC689m"
   },
   "outputs": [
    {
     "name": "stdout",
     "output_type": "stream",
     "text": [
      "MSE: 0.01099570917572187, R2: 0.6872797475661067\n"
     ]
    }
   ],
   "source": [
    "regr = NormalLR()\n",
    "regr.fit(X_train, y_train)\n",
    "y_pred = regr.predict(X_val)\n",
    "print(f\"MSE: {mse(y_val, y_pred)}, R2: {r2(y_val, y_pred)}\")"
   ]
  },
  {
   "cell_type": "code",
   "execution_count": 285,
   "metadata": {
    "id": "dLUWno_N689m"
   },
   "outputs": [
    {
     "data": {
      "image/png": "[encoded data removed]",
      "text/plain": [
       "<Figure size 648x288 with 1 Axes>"
      ]
     },
     "metadata": {
      "needs_background": "light"
     },
     "output_type": "display_data"
    }
   ],
   "source": [
    "build_plot(X_train, y_train, X_val, y_val)"
   ]
  },
  {
   "cell_type": "code",
   "execution_count": 286,
   "metadata": {
    "id": "pqHBX4Gn689m"
   },
   "outputs": [
    {
     "name": "stdout",
     "output_type": "stream",
     "text": [
      "MSE: 0.01099570917572187, R2: 0.6872797475661067\n"
     ]
    }
   ],
   "source": [
    "regr = GradientLR(0.1, iterations=10000)\n",
    "regr.fit(X_train, y_train)\n",
    "print(f\"MSE: {mse(y_val, y_pred)}, R2: {r2(y_val, y_pred)}\")"
   ]
  },
  {
   "cell_type": "markdown",
   "metadata": {
    "id": "hYrkoSNw689m"
   },
   "source": [
    "### Задание 5 (2 балла)\n",
    "Проинтерпритируйте полученные результаты. Опишите влияние каждого признака на результат предсказания."
   ]
  },
  {
   "cell_type": "code",
   "execution_count": 287,
   "metadata": {
    "id": "J_1RhVl8689m"
   },
   "outputs": [
    {
     "data": {
      "text/plain": [
       "array([-0.09621189,  0.09276543,  0.01338171,  0.05081765, -0.13180825,\n",
       "        0.52656581,  0.02466778, -0.26548462,  0.14226302, -0.16599952,\n",
       "       -0.17034566,  0.10523938, -0.40504178])"
      ]
     },
     "execution_count": 287,
     "metadata": {},
     "output_type": "execute_result"
    }
   ],
   "source": [
    "regr.get_w_"
   ]
  },
  {
   "cell_type": "markdown",
   "metadata": {},
   "source": [
    "##### Признаки, оказывающие влияние на стоимость недвижимости в Бостоне:"
   ]
  },
  {
   "cell_type": "markdown",
   "metadata": {},
   "source": [
    "#####  1. crim     per capita crime rate by town\n",
    "#####  2. zn       proportion of residential land zoned for lots over 25,000 sq.ft.\n",
    "#####  3. indus    proportion of non-retail business acres per town\n",
    "#####  4. chas     Charles River dummy variable (= 1 if tract bounds river; 0 otherwise)\n",
    "#####  5. nox      nitric oxides concentration (parts per 10 million)\n",
    "##### 6. rm       average number of rooms per dwelling\n",
    "##### 7. age      proportion of owner-occupied units built prior to 1940\n",
    "##### 8. dis      weighted distances to five Boston employment centres\n",
    "#####  9. rad      index of accessibility to radial highways\n",
    "##### 10. tax      full-value property-tax rate per $10,000\n",
    "##### 11. ptratio  pupil-teacher ratio by town\n",
    "##### 12. b        1000(Bk - 0.63)^2 where Bk is the proportion of blacks by town\n",
    "##### 13. lstat    % lower status of the population"
   ]
  },
  {
   "cell_type": "code",
   "execution_count": 303,
   "metadata": {},
   "outputs": [
    {
     "name": "stdout",
     "output_type": "stream",
     "text": [
      "Соответсвующие признакам веса: -0.09621188747359852 0.09276542787381263 0.01338171486692185 0.05081765453463974 -0.13180824997976207 0.526565813357134 0.02466778194209056 -0.2654846170317435 0.1422630190352716 -0.16599952360079362 -0.170345657829398 0.10523938329000057 -0.40504177907014927\n",
      "0.526565813357134\n"
     ]
    }
   ],
   "source": [
    "print(\"Соответсвующие признакам веса:\", *regr.get_w_)"
   ]
  },
  {
   "cell_type": "code",
   "execution_count": 306,
   "metadata": {},
   "outputs": [
    {
     "name": "stdout",
     "output_type": "stream",
     "text": [
      "0 -0.09621188747359852\n",
      "1 0.09276542787381263\n",
      "2 0.01338171486692185\n",
      "3 0.05081765453463974\n",
      "4 -0.13180824997976207\n",
      "5 0.526565813357134\n",
      "6 0.02466778194209056\n",
      "7 -0.2654846170317435\n",
      "8 0.1422630190352716\n",
      "9 -0.16599952360079362\n",
      "10 -0.170345657829398\n",
      "11 0.10523938329000057\n",
      "12 -0.40504177907014927\n",
      "max 0.526565813357134\n",
      "min -0.40504177907014927\n"
     ]
    }
   ],
   "source": [
    "weights = regr.get_w_\n",
    "for i, x in enumerate(weights):\n",
    "    print(i, x)\n",
    "print(\"max\", max(weights))\n",
    "print(\"min\", min(weights))"
   ]
  },
  {
   "cell_type": "markdown",
   "metadata": {},
   "source": [
    "Выводы:\n",
    "- Положительные веса соответсвуют признакам, оказывающим влияние на повышение цены в Бостоне.\n",
    "- Отрицательные веса говорят о том, что данные признаки оказывают влияние на ее цену.\n",
    "- Видим, что 5 признак наиболее значим при увеличении цены. С ростом 12 признака цена снижается."
   ]
  }
 ],
 "metadata": {
  "colab": {
   "collapsed_sections": [],
   "name": "hw3_task.ipynb",
   "provenance": []
  },
  "kernelspec": {
   "display_name": "Python 3",
   "language": "python",
   "name": "python3"
  },
  "language_info": {
   "codemirror_mode": {
    "name": "ipython",
    "version": 3
   },
   "file_extension": ".py",
   "mimetype": "text/x-python",
   "name": "python",
   "nbconvert_exporter": "python",
   "pygments_lexer": "ipython3",
   "version": "3.8.0"
  }
 },
 "nbformat": 4,
 "nbformat_minor": 4
}
